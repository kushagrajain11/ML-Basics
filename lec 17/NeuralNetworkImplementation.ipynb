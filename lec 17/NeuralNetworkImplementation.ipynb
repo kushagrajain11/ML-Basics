{
 "cells": [
  {
   "cell_type": "code",
   "execution_count": 17,
   "metadata": {
    "collapsed": true
   },
   "outputs": [],
   "source": [
    "import numpy as np"
   ]
  },
  {
   "cell_type": "code",
   "execution_count": 18,
   "metadata": {
    "collapsed": true
   },
   "outputs": [],
   "source": [
    "def sig(z):\n",
    "    return 1/(1 + np.exp(-z))"
   ]
  },
  {
   "cell_type": "code",
   "execution_count": 19,
   "metadata": {
    "collapsed": true
   },
   "outputs": [],
   "source": [
    "def derivativeSig(sig_out):\n",
    "    return sig_out*(1 - sig_out)"
   ]
  },
  {
   "cell_type": "code",
   "execution_count": 20,
   "metadata": {
    "collapsed": false
   },
   "outputs": [],
   "source": [
    "X = np.array([[0,0,1],\n",
    "              [0,1,1],\n",
    "              [1,0,1],\n",
    "              [1,1,1]])\n",
    "Y = np.array([[0,0,1,1]]).T"
   ]
  },
  {
   "cell_type": "code",
   "execution_count": 44,
   "metadata": {
    "collapsed": false
   },
   "outputs": [
    {
     "data": {
      "text/plain": [
       "array([[ 0.94886621],\n",
       "       [ 0.6851859 ],\n",
       "       [-0.70671683]])"
      ]
     },
     "execution_count": 44,
     "metadata": {},
     "output_type": "execute_result"
    }
   ],
   "source": [
    "weights = 2 * np.random.random((3,1)) - 1\n",
    "learning_rate = 0.1\n",
    "weights"
   ]
  },
  {
   "cell_type": "code",
   "execution_count": 45,
   "metadata": {
    "collapsed": false
   },
   "outputs": [
    {
     "data": {
      "text/plain": [
       "((4, 3), (3, 1))"
      ]
     },
     "execution_count": 45,
     "metadata": {},
     "output_type": "execute_result"
    }
   ],
   "source": [
    "X.shape, weights.shape"
   ]
  },
  {
   "cell_type": "code",
   "execution_count": 65,
   "metadata": {
    "collapsed": false
   },
   "outputs": [
    {
     "data": {
      "text/plain": [
       "(array([[ 8.06015623],\n",
       "        [-0.21201132],\n",
       "        [-3.81937647]]), array([[ 0.02147039],\n",
       "        [ 0.01744012],\n",
       "        [ 0.98580795],\n",
       "        [ 0.98251493]]))"
      ]
     },
     "execution_count": 65,
     "metadata": {},
     "output_type": "execute_result"
    }
   ],
   "source": [
    "for iter in range(10000):\n",
    "    output0 = X\n",
    "    output1 = sig(np.dot(output0, weights))\n",
    "    first_term = output1 - Y\n",
    "    second_term = derivativeSig(output1)\n",
    "    first_two = first_term * second_term\n",
    "    changes = np.array([[0,0,0.0]])\n",
    "    for i in range(3):\n",
    "        for j in range(4):\n",
    "            changes[0][i] = changes[0][i] + first_two[j][0]*output0[j][i]\n",
    "\n",
    "    # # net_change = np.dot(output0.T, first_two)\n",
    "    weights = weights - learning_rate*changes.T\n",
    "    \n",
    "output1 = sig(np.dot(X, weights))\n",
    "weights,output1"
   ]
  },
  {
   "cell_type": "code",
   "execution_count": 68,
   "metadata": {
    "collapsed": true
   },
   "outputs": [],
   "source": [
    "weights0 = 2* np.random.random((3,4)) - 1\n",
    "weights1 = 2* np.random.random((4, 1)) - 1"
   ]
  },
  {
   "cell_type": "code",
   "execution_count": 77,
   "metadata": {
    "collapsed": false
   },
   "outputs": [
    {
     "data": {
      "text/plain": [
       "array([[ 0.08469061],\n",
       "       [ 0.07129671],\n",
       "       [ 0.92969183],\n",
       "       [ 0.921741  ]])"
      ]
     },
     "execution_count": 77,
     "metadata": {},
     "output_type": "execute_result"
    }
   ],
   "source": [
    "for iter in range(1000):\n",
    "    layer0 = X\n",
    "    layer1 = sig(np.dot(layer0, weights0))\n",
    "    layer2 = sig(np.dot(layer1, weights1))\n",
    "\n",
    "    l2_error = layer2 - Y\n",
    "    l2_delta = l2_error * derivativeSig(layer2)\n",
    "    net_change2 = np.dot(layer1.T, l2_delta)\n",
    "\n",
    "    l1_error = l2_delta.dot(weights1.T)\n",
    "    l1_delta = l1_error  * derivativeSig(layer1)\n",
    "    net_change1 = np.dot(layer0.T, l1_delta)\n",
    "\n",
    "    weights0 = weights0 - learning_rate*net_change1\n",
    "    weights1 = weights1 - learning_rate*net_change2\n",
    "\n",
    "\n",
    "layer0 = X\n",
    "layer1 = sig(np.dot(layer0, weights0))\n",
    "layer2 = sig(np.dot(layer1, weights1))\n",
    "layer2"
   ]
  }
 ],
 "metadata": {
  "anaconda-cloud": {},
  "kernelspec": {
   "display_name": "Python [conda env:py3k]",
   "language": "python",
   "name": "conda-env-py3k-py"
  },
  "language_info": {
   "codemirror_mode": {
    "name": "ipython",
    "version": 3
   },
   "file_extension": ".py",
   "mimetype": "text/x-python",
   "name": "python",
   "nbconvert_exporter": "python",
   "pygments_lexer": "ipython3",
   "version": "3.6.0"
  }
 },
 "nbformat": 4,
 "nbformat_minor": 1
}
