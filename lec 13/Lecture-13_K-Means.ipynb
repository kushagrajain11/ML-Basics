{
 "cells": [
  {
   "cell_type": "code",
   "execution_count": 1,
   "metadata": {
    "collapsed": true
   },
   "outputs": [],
   "source": [
    "import numpy as np\n",
    "import matplotlib.pyplot as plt\n",
    "from sklearn.cluster import KMeans"
   ]
  },
  {
   "cell_type": "code",
   "execution_count": 2,
   "metadata": {},
   "outputs": [],
   "source": [
    "x = np.array([[1, 2], [1.5, 1.8], [5, 8], [8, 8], [1, 0.6], [9, 11]])"
   ]
  },
  {
   "cell_type": "code",
   "execution_count": 3,
   "metadata": {},
   "outputs": [
    {
     "data": {
      "image/png": "[encoded data removed]",
      "text/plain": [
       "<matplotlib.figure.Figure at 0x7f9a05baa048>"
      ]
     },
     "metadata": {},
     "output_type": "display_data"
    }
   ],
   "source": [
    "plt.scatter(x[ : , 0], x[ : , 1])\n",
    "plt.show()"
   ]
  },
  {
   "cell_type": "code",
   "execution_count": 4,
   "metadata": {},
   "outputs": [
    {
     "data": {
      "text/plain": [
       "KMeans(algorithm='auto', copy_x=True, init='k-means++', max_iter=300,\n",
       "    n_clusters=2, n_init=10, n_jobs=1, precompute_distances='auto',\n",
       "    random_state=None, tol=0.0001, verbose=0)"
      ]
     },
     "execution_count": 4,
     "metadata": {},
     "output_type": "execute_result"
    }
   ],
   "source": [
    "k_means = KMeans(n_clusters = 2)\n",
    "k_means.fit(x)"
   ]
  },
  {
   "cell_type": "code",
   "execution_count": 5,
   "metadata": {},
   "outputs": [
    {
     "name": "stdout",
     "output_type": "stream",
     "text": [
      "[1 1 0 0 1 0]\n"
     ]
    },
    {
     "data": {
      "image/png": "[encoded data removed]",
      "text/plain": [
       "<matplotlib.figure.Figure at 0x7f9a05bd1400>"
      ]
     },
     "metadata": {},
     "output_type": "display_data"
    }
   ],
   "source": [
    "print(k_means.labels_)\n",
    "plt.scatter(x[ : , 0], x[ : , 1], c = k_means.labels_)\n",
    "plt.scatter(k_means.cluster_centers_[: ,0], k_means.cluster_centers_[: ,1])\n",
    "plt.show()"
   ]
  },
  {
   "cell_type": "code",
   "execution_count": 6,
   "metadata": {
    "collapsed": true
   },
   "outputs": [],
   "source": [
    "def euclid_distance(x1, x2) :\n",
    "    return (((x1 - x2)**2).sum())**0.5\n",
    "\n",
    "\n",
    "def get_mean(clusters) :\n",
    "    mean_array = np.array([x[i] for i in range(len(clusters))])\n",
    "    index = 0\n",
    "    \n",
    "    for key in clusters :\n",
    "        data = x[clusters.get(key) , :]\n",
    "        mean_array[index] = data.mean(axis = 0)\n",
    "        index = index + 1\n",
    "    \n",
    "    return mean_array\n",
    "\n",
    "\n",
    "def fit(x, k) :\n",
    "    mean_array = np.array([x[i] for i in range(k)])\n",
    "    clusters = {'cluster_' + str(i) : [] for i in range(k)}\n",
    "    \n",
    "    while True :\n",
    "        for i in range(x.shape[0]) :\n",
    "            min_distance = euclid_distance(x[i], mean_array[0])\n",
    "            cluster_index = 0\n",
    "        \n",
    "            for j in range(mean_array.shape[0]) :\n",
    "                current_distance = euclid_distance(x[i], mean_array[j])\n",
    "            \n",
    "                if current_distance < min_distance :\n",
    "                    min_distance = current_distance\n",
    "                    cluster_index = j\n",
    "\n",
    "            clusters.get('cluster_' + str(cluster_index)).append(i)        \n",
    "                            \n",
    "        new_mean_array = get_mean(clusters)\n",
    "\n",
    "        if np.absolute(mean_array - new_mean_array).sum() == 0 :\n",
    "            break\n",
    "\n",
    "        mean_array = new_mean_array\n",
    "        clusters = {'cluster_' + str(i) : [] for i in range(k)}  \n",
    "            \n",
    "    return clusters, mean_array   "
   ]
  },
  {
   "cell_type": "code",
   "execution_count": 7,
   "metadata": {},
   "outputs": [],
   "source": [
    "clusters, mean_array = fit(x, 2)"
   ]
  },
  {
   "cell_type": "code",
   "execution_count": 8,
   "metadata": {},
   "outputs": [
    {
     "data": {
      "text/plain": [
       "({'cluster_0': [0, 1, 4], 'cluster_1': [2, 3, 5]},\n",
       " array([[ 1.16666667,  1.46666667],\n",
       "        [ 7.33333333,  9.        ]]))"
      ]
     },
     "execution_count": 8,
     "metadata": {},
     "output_type": "execute_result"
    }
   ],
   "source": [
    "clusters, mean_array"
   ]
  }
 ],
 "metadata": {
  "kernelspec": {
   "display_name": "Python 3",
   "language": "python",
   "name": "python3"
  },
  "language_info": {
   "codemirror_mode": {
    "name": "ipython",
    "version": 3
   },
   "file_extension": ".py",
   "mimetype": "text/x-python",
   "name": "python",
   "nbconvert_exporter": "python",
   "pygments_lexer": "ipython3",
   "version": "3.6.3"
  }
 },
 "nbformat": 4,
 "nbformat_minor": 2
}
