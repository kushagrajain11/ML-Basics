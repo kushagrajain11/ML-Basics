{
 "cells": [
  {
   "cell_type": "code",
   "execution_count": 2,
   "metadata": {},
   "outputs": [],
   "source": [
    "import numpy as np"
   ]
  },
  {
   "cell_type": "code",
   "execution_count": null,
   "metadata": {
    "collapsed": true
   },
   "outputs": [],
   "source": [
    "def monteCarlo(nEpisodes):\n",
    "    stateActionRewards = np.zeros((101, 51))\n",
    "    stateActionCount = np.ones((101, 51))\n",
    "    for episodes in range(nEpisodes):\n",
    "        "
   ]
  },
  {
   "cell_type": "code",
   "execution_count": null,
   "metadata": {
    "collapsed": true
   },
   "outputs": [],
   "source": [
    "def runEpisodes(nEpisodes):\n",
    "    stateActionValues = monteCarlo(nEpisodes)\n",
    "    stateValues = np.zeros(101)\n",
    "    stateActions = np.zeros(101)\n",
    "    for i in range(101):\n",
    "        stateValues[i] = np.max(stateActionValues[i, :])\n",
    "        stateActions[i] = np.argmax(stateActionValues[i, :])"
   ]
  }
 ],
 "metadata": {
  "kernelspec": {
   "display_name": "Python 3",
   "language": "python",
   "name": "python3"
  },
  "language_info": {
   "codemirror_mode": {
    "name": "ipython",
    "version": 3
   },
   "file_extension": ".py",
   "mimetype": "text/x-python",
   "name": "python",
   "nbconvert_exporter": "python",
   "pygments_lexer": "ipython3",
   "version": "3.6.3"
  }
 },
 "nbformat": 4,
 "nbformat_minor": 2
}
