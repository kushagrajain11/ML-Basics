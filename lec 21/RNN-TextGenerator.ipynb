{
 "cells": [
  {
   "cell_type": "code",
   "execution_count": 1,
   "metadata": {},
   "outputs": [
    {
     "data": {
      "text/plain": [
       "(18741, 58)"
      ]
     },
     "execution_count": 1,
     "metadata": {},
     "output_type": "execute_result"
    }
   ],
   "source": [
    "data = open('abc.txt', 'r').read().lower()\n",
    "characters = list(set(data))\n",
    "len(data), len(characters)"
   ]
  },
  {
   "cell_type": "code",
   "execution_count": 2,
   "metadata": {},
   "outputs": [
    {
     "data": {
      "text/plain": [
       "({'\\t': 26,\n",
       "  '\\n': 51,\n",
       "  ' ': 57,\n",
       "  '!': 31,\n",
       "  '\"': 1,\n",
       "  '#': 40,\n",
       "  '$': 16,\n",
       "  '%': 43,\n",
       "  \"'\": 4,\n",
       "  '(': 35,\n",
       "  ')': 12,\n",
       "  '*': 20,\n",
       "  ',': 48,\n",
       "  '-': 42,\n",
       "  '.': 49,\n",
       "  '/': 15,\n",
       "  '0': 28,\n",
       "  '1': 24,\n",
       "  '2': 27,\n",
       "  '3': 13,\n",
       "  '4': 14,\n",
       "  '5': 32,\n",
       "  '6': 23,\n",
       "  '7': 22,\n",
       "  '8': 55,\n",
       "  '9': 5,\n",
       "  ':': 18,\n",
       "  ';': 54,\n",
       "  '=': 11,\n",
       "  '>': 56,\n",
       "  '?': 45,\n",
       "  '@': 39,\n",
       "  'a': 10,\n",
       "  'b': 0,\n",
       "  'c': 17,\n",
       "  'd': 34,\n",
       "  'e': 7,\n",
       "  'f': 33,\n",
       "  'g': 19,\n",
       "  'h': 37,\n",
       "  'i': 46,\n",
       "  'j': 44,\n",
       "  'k': 6,\n",
       "  'l': 3,\n",
       "  'm': 25,\n",
       "  'n': 50,\n",
       "  'o': 30,\n",
       "  'p': 47,\n",
       "  'q': 9,\n",
       "  'r': 53,\n",
       "  's': 21,\n",
       "  't': 38,\n",
       "  'u': 8,\n",
       "  'v': 2,\n",
       "  'w': 36,\n",
       "  'x': 29,\n",
       "  'y': 41,\n",
       "  'z': 52},\n",
       " {0: 'b',\n",
       "  1: '\"',\n",
       "  2: 'v',\n",
       "  3: 'l',\n",
       "  4: \"'\",\n",
       "  5: '9',\n",
       "  6: 'k',\n",
       "  7: 'e',\n",
       "  8: 'u',\n",
       "  9: 'q',\n",
       "  10: 'a',\n",
       "  11: '=',\n",
       "  12: ')',\n",
       "  13: '3',\n",
       "  14: '4',\n",
       "  15: '/',\n",
       "  16: '$',\n",
       "  17: 'c',\n",
       "  18: ':',\n",
       "  19: 'g',\n",
       "  20: '*',\n",
       "  21: 's',\n",
       "  22: '7',\n",
       "  23: '6',\n",
       "  24: '1',\n",
       "  25: 'm',\n",
       "  26: '\\t',\n",
       "  27: '2',\n",
       "  28: '0',\n",
       "  29: 'x',\n",
       "  30: 'o',\n",
       "  31: '!',\n",
       "  32: '5',\n",
       "  33: 'f',\n",
       "  34: 'd',\n",
       "  35: '(',\n",
       "  36: 'w',\n",
       "  37: 'h',\n",
       "  38: 't',\n",
       "  39: '@',\n",
       "  40: '#',\n",
       "  41: 'y',\n",
       "  42: '-',\n",
       "  43: '%',\n",
       "  44: 'j',\n",
       "  45: '?',\n",
       "  46: 'i',\n",
       "  47: 'p',\n",
       "  48: ',',\n",
       "  49: '.',\n",
       "  50: 'n',\n",
       "  51: '\\n',\n",
       "  52: 'z',\n",
       "  53: 'r',\n",
       "  54: ';',\n",
       "  55: '8',\n",
       "  56: '>',\n",
       "  57: ' '})"
      ]
     },
     "execution_count": 2,
     "metadata": {},
     "output_type": "execute_result"
    }
   ],
   "source": [
    "char_to_index = {ch:i for i,ch in enumerate(characters)}\n",
    "index_to_char = {i:ch for i,ch in enumerate(characters)}\n",
    "\n",
    "char_to_index, index_to_char"
   ]
  },
  {
   "cell_type": "code",
   "execution_count": 3,
   "metadata": {
    "collapsed": true
   },
   "outputs": [],
   "source": [
    "hidden_units = 100\n",
    "learning_rate = 1\n",
    "length_seq = 20\n",
    "vocab_size = len(characters)"
   ]
  },
  {
   "cell_type": "code",
   "execution_count": 4,
   "metadata": {
    "collapsed": true
   },
   "outputs": [],
   "source": [
    "import numpy as np\n",
    "Wxh = np.random.randn(hidden_units, vocab_size)\n",
    "Whh = np.random.randn(hidden_units, hidden_units)\n",
    "Why = np.random.randn(vocab_size, hidden_units)\n",
    "bh = np.zeros((hidden_units, 1))\n",
    "by = np.zeros((vocab_size, 1))"
   ]
  },
  {
   "cell_type": "code",
   "execution_count": 5,
   "metadata": {},
   "outputs": [
    {
     "data": {
      "text/plain": [
       "array([[ 0.],\n",
       "       [ 0.],\n",
       "       [ 0.],\n",
       "       [ 0.],\n",
       "       [ 0.],\n",
       "       [ 0.],\n",
       "       [ 0.],\n",
       "       [ 0.],\n",
       "       [ 0.],\n",
       "       [ 0.],\n",
       "       [ 1.],\n",
       "       [ 0.],\n",
       "       [ 0.],\n",
       "       [ 0.],\n",
       "       [ 0.],\n",
       "       [ 0.],\n",
       "       [ 0.],\n",
       "       [ 0.],\n",
       "       [ 0.],\n",
       "       [ 0.],\n",
       "       [ 0.],\n",
       "       [ 0.],\n",
       "       [ 0.],\n",
       "       [ 0.],\n",
       "       [ 0.],\n",
       "       [ 0.],\n",
       "       [ 0.],\n",
       "       [ 0.],\n",
       "       [ 0.],\n",
       "       [ 0.],\n",
       "       [ 0.],\n",
       "       [ 0.],\n",
       "       [ 0.],\n",
       "       [ 0.],\n",
       "       [ 0.],\n",
       "       [ 0.],\n",
       "       [ 0.],\n",
       "       [ 0.],\n",
       "       [ 0.],\n",
       "       [ 0.],\n",
       "       [ 0.],\n",
       "       [ 0.],\n",
       "       [ 0.],\n",
       "       [ 0.],\n",
       "       [ 0.],\n",
       "       [ 0.],\n",
       "       [ 0.],\n",
       "       [ 0.],\n",
       "       [ 0.],\n",
       "       [ 0.],\n",
       "       [ 0.],\n",
       "       [ 0.],\n",
       "       [ 0.],\n",
       "       [ 0.],\n",
       "       [ 0.],\n",
       "       [ 0.],\n",
       "       [ 0.],\n",
       "       [ 0.]])"
      ]
     },
     "execution_count": 5,
     "metadata": {},
     "output_type": "execute_result"
    }
   ],
   "source": [
    "inp = np.zeros((vocab_size, 1))\n",
    "inp[char_to_index['a']] = 1\n",
    "inp"
   ]
  },
  {
   "cell_type": "code",
   "execution_count": 6,
   "metadata": {
    "collapsed": true
   },
   "outputs": [],
   "source": [
    "def next_char(current_char, h_prev):\n",
    "    current_input = np.zeros((vocab_size, 1))\n",
    "    current_input[char_to_index[current_char]] = 1\n",
    "    hidden_output = np.tanh(bh + np.dot(Wxh, current_input) + np.dot(Whh, h_prev))\n",
    "    output = np.dot(Why, hidden_output) + by\n",
    "    prob = np.exp(output)/np.sum(np.exp(output))\n",
    "    max_index = np.argmax(prob)\n",
    "    output_char = index_to_char[max_index]\n",
    "    return output_char, hidden_output\n",
    "                  \n",
    "def train(inputs, targets, h_prev):\n",
    "    #h_prev = np.zeros((hidden_units, 1))\n",
    "    xs, hs, os, ps = {},{},{},{}\n",
    "    hs[-1] = h_prev\n",
    "    loss = 0\n",
    "    for i in range(len(inputs)):\n",
    "        xs[i] = np.zeros((vocab_size, 1))\n",
    "        xs[i][char_to_index[inputs[i]]] = 1\n",
    "        hs[i] = np.tanh(bh + np.dot(Wxh, xs[i]) + np.dot(Whh, hs[i - 1]))\n",
    "        os[i] = np.dot(Why, hs[i]) + by\n",
    "        ps[i] = np.exp(os[i])/np.sum(np.exp(os[i]))\n",
    "        loss += -np.log(ps[i][char_to_index[targets[i]]]) # TODO\n",
    "    \n",
    "    dWxh, dWhh, dWhy = np.zeros_like(Wxh), np.zeros_like(Whh), np.zeros_like(Why)\n",
    "    \n",
    "    "
   ]
  },
  {
   "cell_type": "code",
   "execution_count": 8,
   "metadata": {},
   "outputs": [
    {
     "ename": "KeyError",
     "evalue": "2700",
     "output_type": "error",
     "traceback": [
      "\u001b[0;31m---------------------------------------------------------------------------\u001b[0m",
      "\u001b[0;31mKeyError\u001b[0m                                  Traceback (most recent call last)",
      "\u001b[0;32m<ipython-input-8-6badc4d318a2>\u001b[0m in \u001b[0;36m<module>\u001b[0;34m()\u001b[0m\n\u001b[0;32m----> 1\u001b[0;31m \u001b[0mnext_char\u001b[0m\u001b[0;34m(\u001b[0m\u001b[0;34m'a'\u001b[0m\u001b[0;34m,\u001b[0m \u001b[0;36m0\u001b[0m\u001b[0;34m)\u001b[0m\u001b[0;34m\u001b[0m\u001b[0m\n\u001b[0m",
      "\u001b[0;32m<ipython-input-6-c052bb980dc7>\u001b[0m in \u001b[0;36mnext_char\u001b[0;34m(current_char, h_prev)\u001b[0m\n\u001b[1;32m      6\u001b[0m     \u001b[0mprob\u001b[0m \u001b[0;34m=\u001b[0m \u001b[0mnp\u001b[0m\u001b[0;34m.\u001b[0m\u001b[0mexp\u001b[0m\u001b[0;34m(\u001b[0m\u001b[0moutput\u001b[0m\u001b[0;34m)\u001b[0m\u001b[0;34m/\u001b[0m\u001b[0mnp\u001b[0m\u001b[0;34m.\u001b[0m\u001b[0msum\u001b[0m\u001b[0;34m(\u001b[0m\u001b[0mnp\u001b[0m\u001b[0;34m.\u001b[0m\u001b[0mexp\u001b[0m\u001b[0;34m(\u001b[0m\u001b[0moutput\u001b[0m\u001b[0;34m)\u001b[0m\u001b[0;34m)\u001b[0m\u001b[0;34m\u001b[0m\u001b[0m\n\u001b[1;32m      7\u001b[0m     \u001b[0mmax_index\u001b[0m \u001b[0;34m=\u001b[0m \u001b[0mnp\u001b[0m\u001b[0;34m.\u001b[0m\u001b[0margmax\u001b[0m\u001b[0;34m(\u001b[0m\u001b[0mprob\u001b[0m\u001b[0;34m)\u001b[0m\u001b[0;34m\u001b[0m\u001b[0m\n\u001b[0;32m----> 8\u001b[0;31m     \u001b[0moutput_char\u001b[0m \u001b[0;34m=\u001b[0m \u001b[0mindex_to_char\u001b[0m\u001b[0;34m[\u001b[0m\u001b[0mmax_index\u001b[0m\u001b[0;34m]\u001b[0m\u001b[0;34m\u001b[0m\u001b[0m\n\u001b[0m\u001b[1;32m      9\u001b[0m     \u001b[0;32mreturn\u001b[0m \u001b[0moutput_char\u001b[0m\u001b[0;34m,\u001b[0m \u001b[0mhidden_output\u001b[0m\u001b[0;34m\u001b[0m\u001b[0m\n\u001b[1;32m     10\u001b[0m \u001b[0;34m\u001b[0m\u001b[0m\n",
      "\u001b[0;31mKeyError\u001b[0m: 2700"
     ]
    }
   ],
   "source": [
    "next_char('a', 0)"
   ]
  },
  {
   "cell_type": "code",
   "execution_count": null,
   "metadata": {
    "collapsed": true
   },
   "outputs": [],
   "source": []
  }
 ],
 "metadata": {
  "anaconda-cloud": {},
  "kernelspec": {
   "display_name": "Python 3",
   "language": "python",
   "name": "python3"
  },
  "language_info": {
   "codemirror_mode": {
    "name": "ipython",
    "version": 3
   },
   "file_extension": ".py",
   "mimetype": "text/x-python",
   "name": "python",
   "nbconvert_exporter": "python",
   "pygments_lexer": "ipython3",
   "version": "3.6.3"
  }
 },
 "nbformat": 4,
 "nbformat_minor": 1
}
