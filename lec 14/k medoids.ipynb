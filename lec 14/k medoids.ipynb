{
 "cells": [
  {
   "cell_type": "code",
   "execution_count": 1,
   "metadata": {
    "collapsed": true
   },
   "outputs": [],
   "source": [
    "import numpy as np\n",
    "import matplotlib.pyplot as plt\n",
    "from sklearn.cluster import KMeans"
   ]
  },
  {
   "cell_type": "code",
   "execution_count": 14,
   "metadata": {
    "collapsed": true
   },
   "outputs": [],
   "source": [
    "x = np.array([[1, 2], [1.5, 1.8], [5, 8], [8, 8], [1, 0.6], [9, 11]])\n",
    "k=2"
   ]
  },
  {
   "cell_type": "code",
   "execution_count": 27,
   "metadata": {},
   "outputs": [
    {
     "name": "stdout",
     "output_type": "stream",
     "text": [
      "[ 0.   0.7]\n",
      "[ 0.7  0. ]\n",
      "[ 10.    9.7]\n",
      "[ 13.   12.7]\n",
      "[ 1.4  1.7]\n",
      "[ 17.   16.7]\n"
     ]
    }
   ],
   "source": [
    "median_array = np.array([x[i] for i in range(k)])\n",
    "clusters = np.array([[] for i in range(k)])\n",
    "    \n",
    "for point in x:\n",
    "    print (np.sum(np.absolute(median_array - point), axis=1))"
   ]
  },
  {
   "cell_type": "code",
   "execution_count": 34,
   "metadata": {
    "collapsed": true
   },
   "outputs": [],
   "source": [
    "def man_dist(x1, x2) :\n",
    "    return np.absolute(x1-x2).sum()\n",
    "\n",
    "\n",
    "def get_median(clusters) :\n",
    "    \n",
    "    \n",
    "    return median_array\n",
    "\n",
    "\n",
    "def fit(x, k) :\n",
    "    \n",
    "    for i in range(len(x)):\n",
    "        dist = np.array([man_dist(x[i],x[j]) for j in range(len(x))])\n",
    "     \n",
    "    median_array = np.array([x[i] for i in range(k)])\n",
    "    \n",
    "    clusters = np.array([[] for i in range(k)])\n",
    "    \n",
    "    for point in x:\n",
    "        np.sum(np.absolute(median_array - point), axis=1)\n",
    "        \n",
    "    \n",
    "    return clusters, median_array   "
   ]
  },
  {
   "cell_type": "code",
   "execution_count": 8,
   "metadata": {
    "collapsed": true
   },
   "outputs": [],
   "source": [
    "a = np.array([i for i in range(5)])"
   ]
  },
  {
   "cell_type": "code",
   "execution_count": 9,
   "metadata": {},
   "outputs": [
    {
     "data": {
      "text/plain": [
       "array([0, 1, 2, 3, 4])"
      ]
     },
     "execution_count": 9,
     "metadata": {},
     "output_type": "execute_result"
    }
   ],
   "source": [
    "a"
   ]
  },
  {
   "cell_type": "code",
   "execution_count": 37,
   "metadata": {},
   "outputs": [
    {
     "name": "stdout",
     "output_type": "stream",
     "text": [
      "[  0.    0.7  10.   13.    1.4  17. ]\n",
      "[  0.    9.7  12.7   1.7  16.7]\n",
      "[  0.    3.   11.4   7. ]\n",
      "[  0.   14.4   4. ]\n",
      "[  0.   18.4]\n",
      "[ 0.]\n"
     ]
    }
   ],
   "source": [
    "for i in range(len(x)):\n",
    "        dist = np.array([man_dist(x[i],x[j]) for j in range(i,len(x))])\n",
    "        print(dist)"
   ]
  },
  {
   "cell_type": "code",
   "execution_count": null,
   "metadata": {
    "collapsed": true
   },
   "outputs": [],
   "source": []
  }
 ],
 "metadata": {
  "kernelspec": {
   "display_name": "Python 3",
   "language": "python",
   "name": "python3"
  },
  "language_info": {
   "codemirror_mode": {
    "name": "ipython",
    "version": 3
   },
   "file_extension": ".py",
   "mimetype": "text/x-python",
   "name": "python",
   "nbconvert_exporter": "python",
   "pygments_lexer": "ipython3",
   "version": "3.6.3"
  }
 },
 "nbformat": 4,
 "nbformat_minor": 2
}
