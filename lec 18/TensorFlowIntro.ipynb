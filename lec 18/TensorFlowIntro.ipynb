{
 "cells": [
  {
   "cell_type": "code",
   "execution_count": 1,
   "metadata": {
    "collapsed": true
   },
   "outputs": [],
   "source": [
    "import tensorflow as tf"
   ]
  },
  {
   "cell_type": "code",
   "execution_count": 2,
   "metadata": {},
   "outputs": [
    {
     "name": "stdout",
     "output_type": "stream",
     "text": [
      "Tensor(\"Const:0\", shape=(), dtype=int32)\n",
      "Tensor(\"Add:0\", shape=(), dtype=int32)\n",
      "5\n",
      "6 5\n"
     ]
    },
    {
     "data": {
      "text/plain": [
       "<tf.Tensor 'Const:0' shape=() dtype=int32>"
      ]
     },
     "execution_count": 2,
     "metadata": {},
     "output_type": "execute_result"
    }
   ],
   "source": [
    "a = tf.constant(2)\n",
    "b = tf.constant(3)\n",
    "print(a)\n",
    "sess = tf.Session()\n",
    "l = tf.add(a, b)\n",
    "print(l)\n",
    "print(sess.run(l))\n",
    "m = sess.run(a * b)\n",
    "s = sess.run(a + b)\n",
    "print(m, s)\n",
    "sess.run([a * b, a + b])\n",
    "a"
   ]
  },
  {
   "cell_type": "code",
   "execution_count": 3,
   "metadata": {},
   "outputs": [
    {
     "data": {
      "text/plain": [
       "30"
      ]
     },
     "execution_count": 3,
     "metadata": {},
     "output_type": "execute_result"
    }
   ],
   "source": [
    "x = tf.placeholder(tf.int16)\n",
    "y = tf.placeholder(tf.int16)\n",
    "add = tf.add(x, y)\n",
    "sess = tf.Session()\n",
    "sess.run(add, feed_dict={x:10, y:20})"
   ]
  },
  {
   "cell_type": "code",
   "execution_count": 4,
   "metadata": {},
   "outputs": [
    {
     "name": "stdout",
     "output_type": "stream",
     "text": [
      "[[18]]\n"
     ]
    }
   ],
   "source": [
    "matrix1 = tf.constant([[3,3]])\n",
    "matrix2 = tf.constant([[3],[3]])\n",
    "product = tf.matmul(matrix1, matrix2)\n",
    "with tf.Session() as sess:\n",
    "    p = sess.run(product)\n",
    "    print(p)\n",
    "    "
   ]
  },
  {
   "cell_type": "code",
   "execution_count": 5,
   "metadata": {},
   "outputs": [
    {
     "name": "stdout",
     "output_type": "stream",
     "text": [
      "[[18 21 24]\n",
      " [40 47 54]]\n",
      "[[28 32 36]\n",
      " [50 58 66]]\n"
     ]
    }
   ],
   "source": [
    "dummyinput = tf.constant([[1, 2], [3, 4]])\n",
    "dummyweights = tf.constant([[4, 5, 6],[7, 8, 9]])\n",
    "dummybiases = tf.constant([10,11,12])\n",
    "product = tf.matmul(dummyinput, dummyweights)\n",
    "sum1 = tf.add(product, dummybiases)\n",
    "with tf.Session() as sess:\n",
    "    p = sess.run(product)\n",
    "    print(p)\n",
    "    s = sess.run(sum1)\n",
    "    print(s)"
   ]
  },
  {
   "cell_type": "code",
   "execution_count": 6,
   "metadata": {},
   "outputs": [
    {
     "name": "stdout",
     "output_type": "stream",
     "text": [
      "WARNING:tensorflow:From /home/venom/anaconda3/lib/python3.6/site-packages/tensorflow/contrib/learn/python/learn/datasets/base.py:198: retry (from tensorflow.contrib.learn.python.learn.datasets.base) is deprecated and will be removed in a future version.\n",
      "Instructions for updating:\n",
      "Use the retry module or similar alternatives.\n"
     ]
    }
   ],
   "source": [
    "from tensorflow.examples.tutorials.mnist import input_data"
   ]
  },
  {
   "cell_type": "code",
   "execution_count": 7,
   "metadata": {},
   "outputs": [
    {
     "name": "stdout",
     "output_type": "stream",
     "text": [
      "WARNING:tensorflow:From <ipython-input-7-6f78a56b35f2>:1: read_data_sets (from tensorflow.contrib.learn.python.learn.datasets.mnist) is deprecated and will be removed in a future version.\n",
      "Instructions for updating:\n",
      "Please use alternatives such as official/mnist/dataset.py from tensorflow/models.\n",
      "WARNING:tensorflow:From /home/venom/anaconda3/lib/python3.6/site-packages/tensorflow/contrib/learn/python/learn/datasets/mnist.py:260: maybe_download (from tensorflow.contrib.learn.python.learn.datasets.base) is deprecated and will be removed in a future version.\n",
      "Instructions for updating:\n",
      "Please write your own downloading logic.\n",
      "WARNING:tensorflow:From /home/venom/anaconda3/lib/python3.6/site-packages/tensorflow/contrib/learn/python/learn/datasets/mnist.py:262: extract_images (from tensorflow.contrib.learn.python.learn.datasets.mnist) is deprecated and will be removed in a future version.\n",
      "Instructions for updating:\n",
      "Please use tf.data to implement this functionality.\n",
      "Extracting MNIST_data/train-images-idx3-ubyte.gz\n",
      "WARNING:tensorflow:From /home/venom/anaconda3/lib/python3.6/site-packages/tensorflow/contrib/learn/python/learn/datasets/mnist.py:267: extract_labels (from tensorflow.contrib.learn.python.learn.datasets.mnist) is deprecated and will be removed in a future version.\n",
      "Instructions for updating:\n",
      "Please use tf.data to implement this functionality.\n",
      "Extracting MNIST_data/train-labels-idx1-ubyte.gz\n",
      "WARNING:tensorflow:From /home/venom/anaconda3/lib/python3.6/site-packages/tensorflow/contrib/learn/python/learn/datasets/mnist.py:110: dense_to_one_hot (from tensorflow.contrib.learn.python.learn.datasets.mnist) is deprecated and will be removed in a future version.\n",
      "Instructions for updating:\n",
      "Please use tf.one_hot on tensors.\n",
      "Extracting MNIST_data/t10k-images-idx3-ubyte.gz\n",
      "Extracting MNIST_data/t10k-labels-idx1-ubyte.gz\n",
      "WARNING:tensorflow:From /home/venom/anaconda3/lib/python3.6/site-packages/tensorflow/contrib/learn/python/learn/datasets/mnist.py:290: DataSet.__init__ (from tensorflow.contrib.learn.python.learn.datasets.mnist) is deprecated and will be removed in a future version.\n",
      "Instructions for updating:\n",
      "Please use alternatives such as official/mnist/dataset.py from tensorflow/models.\n"
     ]
    }
   ],
   "source": [
    "mnist = input_data.read_data_sets(\"MNIST_data/\", one_hot=True)"
   ]
  },
  {
   "cell_type": "code",
   "execution_count": 8,
   "metadata": {},
   "outputs": [
    {
     "data": {
      "text/plain": [
       "(55000, 10)"
      ]
     },
     "execution_count": 8,
     "metadata": {},
     "output_type": "execute_result"
    }
   ],
   "source": [
    "mnist.train.images.shape\n",
    "mnist.train.labels.shape"
   ]
  },
  {
   "cell_type": "code",
   "execution_count": 37,
   "metadata": {
    "collapsed": true
   },
   "outputs": [],
   "source": [
    "n_hidden_1 = 128\n",
    "n_hidden_2 = 128\n",
    "n_input = 784\n",
    "n_classes = 10\n",
    "\n",
    "weights = {\n",
    "    'h1': tf.Variable(tf.random_normal([n_input, n_hidden_1])),\n",
    "    'h2': tf.Variable(tf.random_normal([n_hidden_1, n_hidden_2])),\n",
    "    'out': tf.Variable(tf.random_normal([n_hidden_2, n_classes]))#, trainable=False)\n",
    "}\n",
    "\n",
    "biases = {\n",
    "    'h1': tf.Variable(tf.random_normal([n_hidden_1])),\n",
    "    'h2': tf.Variable(tf.random_normal([n_hidden_2])),\n",
    "    'out': tf.Variable(tf.random_normal([n_classes]))\n",
    "}\n"
   ]
  },
  {
   "cell_type": "code",
   "execution_count": 48,
   "metadata": {
    "collapsed": true
   },
   "outputs": [],
   "source": [
    "def mlp(x, weights, biases):\n",
    "    layer1 = tf.add(tf.matmul(x, weights['h1']), biases['h1'])\n",
    "    layer1 = tf.nn.relu(layer1)\n",
    "    \n",
    "    layer2 = tf.add(tf.matmul(layer1, weights['h2']), biases['h2'])\n",
    "    layer2 = tf.nn.relu(layer2)\n",
    "    \n",
    "    out_layer = tf.add(tf.matmul(layer2, weights['out']), biases['out'])\n",
    "    return out_layer"
   ]
  },
  {
   "cell_type": "code",
   "execution_count": 49,
   "metadata": {},
   "outputs": [
    {
     "data": {
      "text/plain": [
       "<tf.Tensor 'Add_14:0' shape=(?, 10) dtype=float32>"
      ]
     },
     "execution_count": 49,
     "metadata": {},
     "output_type": "execute_result"
    }
   ],
   "source": [
    "x = tf.placeholder(\"float\", [None, n_input])\n",
    "y = tf.placeholder(\"float\", [None, n_classes])\n",
    "pred = mlp(x, weights, biases)\n",
    "pred"
   ]
  },
  {
   "cell_type": "code",
   "execution_count": 78,
   "metadata": {
    "collapsed": true
   },
   "outputs": [],
   "source": [
    "cost = tf.reduce_mean(tf.nn.softmax_cross_entropy_with_logits(logits=pred, labels=y))\n",
    "optimize = tf.train.AdamOptimizer(learning_rate=0.0005).minimize(cost)"
   ]
  },
  {
   "cell_type": "code",
   "execution_count": 79,
   "metadata": {},
   "outputs": [
    {
     "data": {
      "text/plain": [
       "array([[-0.88882899, -0.62062103,  1.9597702 , ..., -0.47907096,\n",
       "        -0.18715219,  0.11734305],\n",
       "       [-0.95920587,  1.04994857,  0.9856981 , ..., -0.62334418,\n",
       "         0.49605942, -0.56683391],\n",
       "       [ 0.31885543, -0.29140234, -0.54044235, ...,  0.73404437,\n",
       "         0.84131062, -0.97177237],\n",
       "       ..., \n",
       "       [-0.97739971, -0.37203684,  0.56625396, ..., -1.38402927,\n",
       "         0.17589708,  0.59731948],\n",
       "       [ 0.11256911, -0.11093783,  1.90675151, ...,  0.59713697,\n",
       "        -1.36790383,  1.58196557],\n",
       "       [ 0.25863802, -0.91424716,  0.30136907, ..., -0.41897851,\n",
       "         1.82033706, -0.29826993]], dtype=float32)"
      ]
     },
     "execution_count": 79,
     "metadata": {},
     "output_type": "execute_result"
    }
   ],
   "source": [
    "sess = tf.Session()\n",
    "init = tf.global_variables_initializer()\n",
    "sess.run(init)\n",
    "sess.run(weights[\"out\"])"
   ]
  },
  {
   "cell_type": "code",
   "execution_count": 83,
   "metadata": {},
   "outputs": [
    {
     "name": "stdout",
     "output_type": "stream",
     "text": [
      "28.7539935206\n",
      "16.1220293809\n",
      "16.6842060398\n",
      "16.0742947982\n",
      "17.266328966\n",
      "14.3271766202\n",
      "13.4407080931\n",
      "13.7146950467\n",
      "8.14202992828\n",
      "19.4308995205\n",
      "15.0348581009\n",
      "10.006085269\n",
      "17.5501054169\n",
      "14.8548780758\n",
      "10.2015991972\n",
      "8.10189961058\n",
      "22.2845314653\n",
      "8.00543376913\n",
      "11.7763743898\n",
      "14.2292372327\n",
      "9.76787152481\n",
      "15.6440665482\n",
      "13.3621624132\n",
      "8.97476283674\n",
      "17.2984222395\n",
      "13.125074738\n",
      "18.0086327016\n",
      "14.7709303908\n",
      "9.05701617923\n",
      "11.4808998691\n",
      "11.9738165445\n",
      "10.8672119147\n",
      "7.9720613715\n",
      "8.47896365957\n",
      "13.0836212216\n",
      "11.1905080164\n",
      "11.2265685309\n",
      "8.78414110236\n",
      "14.5169094856\n",
      "13.0609678361\n",
      "12.0521865703\n",
      "10.7158378906\n",
      "8.54682686097\n",
      "9.97141731998\n",
      "11.0245602788\n",
      "14.6660094677\n",
      "5.2706101118\n",
      "11.8782604096\n",
      "12.5991388084\n",
      "8.66771974107\n",
      "12.0397098126\n",
      "9.1611753716\n",
      "5.26987991993\n",
      "14.4016279111\n",
      "14.900674938\n",
      "15.1687378897\n",
      "9.29018570389\n",
      "12.8685225574\n",
      "9.34349174933\n",
      "9.06619663113\n",
      "7.4317025411\n",
      "6.5624330453\n",
      "13.3940907333\n",
      "6.80420147615\n",
      "12.0436982923\n",
      "12.6031495425\n",
      "6.36769821527\n",
      "10.343130448\n",
      "9.27888457294\n",
      "14.1461431378\n",
      "4.78479745806\n",
      "9.07412895005\n",
      "12.5912335328\n",
      "7.20422063961\n",
      "10.7706225494\n",
      "7.13358162986\n",
      "8.38827174897\n",
      "12.6625560455\n",
      "8.58861784928\n",
      "7.45850177614\n",
      "5.93420222377\n",
      "10.4205783428\n",
      "11.5205885005\n",
      "9.47343118688\n",
      "6.43406622771\n",
      "5.62648585095\n",
      "10.8186711891\n",
      "6.92937879646\n",
      "4.07532439051\n",
      "9.87244853833\n",
      "12.0103220543\n",
      "6.88061097994\n",
      "6.73038621358\n",
      "7.20418796204\n",
      "10.274159562\n",
      "16.2404701715\n",
      "6.41015807897\n",
      "6.82512019382\n",
      "10.3852672794\n",
      "8.14684732692\n"
     ]
    }
   ],
   "source": [
    "batch_size = 75\n",
    "for i in range(100):\n",
    "    num_batches = int(mnist.train.num_examples/batch_size)\n",
    "    total_cost = 0\n",
    "    for j in range(num_batches):\n",
    "        batch_x, batch_y = mnist.train.next_batch(batch_size)\n",
    "        _ , c = sess.run([optimize, cost], feed_dict={x:batch_x, y:batch_y})\n",
    "        total_cost += c\n",
    "    print(total_cost)"
   ]
  },
  {
   "cell_type": "code",
   "execution_count": 84,
   "metadata": {
    "collapsed": true
   },
   "outputs": [],
   "source": [
    "predictions = tf.argmax(pred, 1)\n",
    "correct_labels = tf.argmax(y, 1)\n",
    "correct_predictions = tf.equal(predictions, correct_labels)\n",
    "predictions,correct_predictions  = sess.run([predictions, correct_predictions], feed_dict={x:mnist.test.images,\n",
    "                                              y:mnist.test.labels})\n"
   ]
  },
  {
   "cell_type": "code",
   "execution_count": 85,
   "metadata": {},
   "outputs": [
    {
     "data": {
      "text/plain": [
       "453"
      ]
     },
     "execution_count": 85,
     "metadata": {},
     "output_type": "execute_result"
    }
   ],
   "source": [
    "(correct_predictions == False).sum()"
   ]
  },
  {
   "cell_type": "code",
   "execution_count": 71,
   "metadata": {},
   "outputs": [
    {
     "data": {
      "text/plain": [
       "array([[-1.05943942, -1.41803384,  1.27320504, ..., -0.23477079,\n",
       "        -0.17305094, -0.39230812],\n",
       "       [-0.02654043, -0.98069835,  0.43334058, ...,  1.59795094,\n",
       "        -0.53981543,  0.76896966],\n",
       "       [-1.18972588, -0.64856166,  0.85743493, ..., -0.29921627,\n",
       "         0.29331595,  0.38305911],\n",
       "       ..., \n",
       "       [-0.00822695,  0.67737859, -1.20292521, ...,  0.55244541,\n",
       "        -0.94044328,  0.68713552],\n",
       "       [ 1.28683853, -0.46225548,  0.23407234, ..., -0.20331714,\n",
       "         0.28431693, -0.26567221],\n",
       "       [ 0.30216917,  0.61549771, -1.01469135, ..., -1.6571269 ,\n",
       "         0.48466611,  0.44145507]], dtype=float32)"
      ]
     },
     "execution_count": 71,
     "metadata": {},
     "output_type": "execute_result"
    }
   ],
   "source": [
    "sess.run(weights[\"out\"])"
   ]
  },
  {
   "cell_type": "code",
   "execution_count": null,
   "metadata": {
    "collapsed": true
   },
   "outputs": [],
   "source": []
  }
 ],
 "metadata": {
  "anaconda-cloud": {},
  "kernelspec": {
   "display_name": "Python 3",
   "language": "python",
   "name": "python3"
  },
  "language_info": {
   "codemirror_mode": {
    "name": "ipython",
    "version": 3
   },
   "file_extension": ".py",
   "mimetype": "text/x-python",
   "name": "python",
   "nbconvert_exporter": "python",
   "pygments_lexer": "ipython3",
   "version": "3.6.3"
  }
 },
 "nbformat": 4,
 "nbformat_minor": 1
}
