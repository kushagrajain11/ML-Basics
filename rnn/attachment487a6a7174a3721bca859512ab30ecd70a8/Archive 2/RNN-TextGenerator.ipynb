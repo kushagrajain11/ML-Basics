{
 "cells": [
  {
   "cell_type": "code",
   "execution_count": 6,
   "metadata": {
    "collapsed": false
   },
   "outputs": [
    {
     "data": {
      "text/plain": [
       "(18741, 58)"
      ]
     },
     "execution_count": 6,
     "metadata": {},
     "output_type": "execute_result"
    }
   ],
   "source": [
    "data = open('abc.txt', 'r').read().lower()\n",
    "characters = list(set(data))\n",
    "len(data), len(characters)"
   ]
  },
  {
   "cell_type": "code",
   "execution_count": 11,
   "metadata": {
    "collapsed": false
   },
   "outputs": [
    {
     "data": {
      "text/plain": [
       "({'\\t': 34,\n",
       "  '\\n': 38,\n",
       "  ' ': 49,\n",
       "  '!': 50,\n",
       "  '\"': 45,\n",
       "  '#': 28,\n",
       "  '$': 9,\n",
       "  '%': 16,\n",
       "  \"'\": 52,\n",
       "  '(': 33,\n",
       "  ')': 27,\n",
       "  '*': 35,\n",
       "  ',': 36,\n",
       "  '-': 17,\n",
       "  '.': 21,\n",
       "  '/': 5,\n",
       "  '0': 20,\n",
       "  '1': 8,\n",
       "  '2': 12,\n",
       "  '3': 2,\n",
       "  '4': 43,\n",
       "  '5': 1,\n",
       "  '6': 56,\n",
       "  '7': 24,\n",
       "  '8': 14,\n",
       "  '9': 0,\n",
       "  ':': 51,\n",
       "  ';': 53,\n",
       "  '=': 25,\n",
       "  '>': 6,\n",
       "  '?': 46,\n",
       "  '@': 3,\n",
       "  'a': 32,\n",
       "  'b': 44,\n",
       "  'c': 47,\n",
       "  'd': 41,\n",
       "  'e': 31,\n",
       "  'f': 37,\n",
       "  'g': 18,\n",
       "  'h': 39,\n",
       "  'i': 7,\n",
       "  'j': 15,\n",
       "  'k': 30,\n",
       "  'l': 42,\n",
       "  'm': 11,\n",
       "  'n': 40,\n",
       "  'o': 55,\n",
       "  'p': 10,\n",
       "  'q': 23,\n",
       "  'r': 29,\n",
       "  's': 48,\n",
       "  't': 57,\n",
       "  'u': 13,\n",
       "  'v': 22,\n",
       "  'w': 26,\n",
       "  'x': 4,\n",
       "  'y': 19,\n",
       "  'z': 54},\n",
       " {0: '9',\n",
       "  1: '5',\n",
       "  2: '3',\n",
       "  3: '@',\n",
       "  4: 'x',\n",
       "  5: '/',\n",
       "  6: '>',\n",
       "  7: 'i',\n",
       "  8: '1',\n",
       "  9: '$',\n",
       "  10: 'p',\n",
       "  11: 'm',\n",
       "  12: '2',\n",
       "  13: 'u',\n",
       "  14: '8',\n",
       "  15: 'j',\n",
       "  16: '%',\n",
       "  17: '-',\n",
       "  18: 'g',\n",
       "  19: 'y',\n",
       "  20: '0',\n",
       "  21: '.',\n",
       "  22: 'v',\n",
       "  23: 'q',\n",
       "  24: '7',\n",
       "  25: '=',\n",
       "  26: 'w',\n",
       "  27: ')',\n",
       "  28: '#',\n",
       "  29: 'r',\n",
       "  30: 'k',\n",
       "  31: 'e',\n",
       "  32: 'a',\n",
       "  33: '(',\n",
       "  34: '\\t',\n",
       "  35: '*',\n",
       "  36: ',',\n",
       "  37: 'f',\n",
       "  38: '\\n',\n",
       "  39: 'h',\n",
       "  40: 'n',\n",
       "  41: 'd',\n",
       "  42: 'l',\n",
       "  43: '4',\n",
       "  44: 'b',\n",
       "  45: '\"',\n",
       "  46: '?',\n",
       "  47: 'c',\n",
       "  48: 's',\n",
       "  49: ' ',\n",
       "  50: '!',\n",
       "  51: ':',\n",
       "  52: \"'\",\n",
       "  53: ';',\n",
       "  54: 'z',\n",
       "  55: 'o',\n",
       "  56: '6',\n",
       "  57: 't'})"
      ]
     },
     "execution_count": 11,
     "metadata": {},
     "output_type": "execute_result"
    }
   ],
   "source": [
    "char_to_index = {ch:i for i,ch in enumerate(characters)}\n",
    "index_to_char = {i:ch for i,ch in enumerate(characters)}\n",
    "\n",
    "char_to_index, index_to_char"
   ]
  },
  {
   "cell_type": "code",
   "execution_count": 14,
   "metadata": {
    "collapsed": true
   },
   "outputs": [],
   "source": [
    "hidden_units = 100\n",
    "learning_rate = 1\n",
    "length_seq = 20\n",
    "vocab_size = len(characters)"
   ]
  },
  {
   "cell_type": "code",
   "execution_count": 16,
   "metadata": {
    "collapsed": false
   },
   "outputs": [],
   "source": [
    "import numpy as np\n",
    "Wxh = np.random.randn(hidden_units, vocab_size)\n",
    "Whh = np.random.randn(hidden_units, hidden_units)\n",
    "Why = np.random.randn(vocab_size, hidden_units)\n",
    "bh = np.zeros((hidden_units, 1))\n",
    "by = np.zeros((vocab_size, 1))"
   ]
  },
  {
   "cell_type": "code",
   "execution_count": 17,
   "metadata": {
    "collapsed": false
   },
   "outputs": [
    {
     "data": {
      "text/plain": [
       "array([[ 0.],\n",
       "       [ 0.],\n",
       "       [ 0.],\n",
       "       [ 0.],\n",
       "       [ 0.],\n",
       "       [ 0.],\n",
       "       [ 0.],\n",
       "       [ 0.],\n",
       "       [ 0.],\n",
       "       [ 0.],\n",
       "       [ 0.],\n",
       "       [ 0.],\n",
       "       [ 0.],\n",
       "       [ 0.],\n",
       "       [ 0.],\n",
       "       [ 0.],\n",
       "       [ 0.],\n",
       "       [ 0.],\n",
       "       [ 0.],\n",
       "       [ 0.],\n",
       "       [ 0.],\n",
       "       [ 0.],\n",
       "       [ 0.],\n",
       "       [ 0.],\n",
       "       [ 0.],\n",
       "       [ 0.],\n",
       "       [ 0.],\n",
       "       [ 0.],\n",
       "       [ 0.],\n",
       "       [ 0.],\n",
       "       [ 0.],\n",
       "       [ 0.],\n",
       "       [ 1.],\n",
       "       [ 0.],\n",
       "       [ 0.],\n",
       "       [ 0.],\n",
       "       [ 0.],\n",
       "       [ 0.],\n",
       "       [ 0.],\n",
       "       [ 0.],\n",
       "       [ 0.],\n",
       "       [ 0.],\n",
       "       [ 0.],\n",
       "       [ 0.],\n",
       "       [ 0.],\n",
       "       [ 0.],\n",
       "       [ 0.],\n",
       "       [ 0.],\n",
       "       [ 0.],\n",
       "       [ 0.],\n",
       "       [ 0.],\n",
       "       [ 0.],\n",
       "       [ 0.],\n",
       "       [ 0.],\n",
       "       [ 0.],\n",
       "       [ 0.],\n",
       "       [ 0.],\n",
       "       [ 0.]])"
      ]
     },
     "execution_count": 17,
     "metadata": {},
     "output_type": "execute_result"
    }
   ],
   "source": [
    "inp = np.zeros((vocab_size, 1))\n",
    "inp[char_to_index['a']] = 1\n",
    "inp"
   ]
  },
  {
   "cell_type": "code",
   "execution_count": null,
   "metadata": {
    "collapsed": true
   },
   "outputs": [],
   "source": [
    "def next_char(current_char, h_prev):\n",
    "    current_input = np.zeros((vocab_size, 1))\n",
    "    current_input[char_to_index[current_char]] = 1\n",
    "    hidden_output = np.tanh(bh + np.dot(Wxh, current_input) + np.dot(Whh, h_prev))\n",
    "    output = np.dot(Why, hidden_output) + by\n",
    "    prob = np.exp(output)/np.sum(np.exp(output))\n",
    "    max_index = np.argmax(prob)\n",
    "    output_char = index_to_char[max_index]\n",
    "    return output_char, hidden_output\n",
    "                  \n",
    "def train(inputs, targets, h_prev):\n",
    "    #h_prev = np.zeros((hidden_units, 1))\n",
    "    xs, hs, os, ps = {},{},{},{}\n",
    "    hs[-1] = h_prev\n",
    "    loss = 0\n",
    "    for i in range(len(inputs)):\n",
    "        xs[i] = np.zeros((vocab_size, 1))\n",
    "        xs[i][char_to_index[inputs[i]]] = 1\n",
    "        hs[i] = np.tanh(bh + np.dot(Wxh, xs[i]) + np.dot(Whh, hs[i - 1]))\n",
    "        os[i] = np.dot(Why, hs[i]) + by\n",
    "        ps[i] = np.exp(os[i])/np.sum(np.exp(os[i]))\n",
    "        loss += -np.log(ps[i][char_to_index[targets[i]]]) # TODO\n",
    "    \n",
    "    dWxh, dWhh, dWhy = np.zeros_like(Wxh), np.zeros_like(Whh), np.zeros_like(Why)\n",
    "    \n",
    "    "
   ]
  }
 ],
 "metadata": {
  "anaconda-cloud": {},
  "kernelspec": {
   "display_name": "Python [conda env:py3k]",
   "language": "python",
   "name": "conda-env-py3k-py"
  },
  "language_info": {
   "codemirror_mode": {
    "name": "ipython",
    "version": 3
   },
   "file_extension": ".py",
   "mimetype": "text/x-python",
   "name": "python",
   "nbconvert_exporter": "python",
   "pygments_lexer": "ipython3",
   "version": "3.6.0"
  }
 },
 "nbformat": 4,
 "nbformat_minor": 1
}
