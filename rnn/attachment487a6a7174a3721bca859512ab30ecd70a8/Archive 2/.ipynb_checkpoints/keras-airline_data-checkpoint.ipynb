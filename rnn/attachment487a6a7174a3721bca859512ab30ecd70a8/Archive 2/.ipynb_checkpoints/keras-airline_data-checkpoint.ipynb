{
 "cells": [
  {
   "cell_type": "code",
   "execution_count": 44,
   "metadata": {},
   "outputs": [],
   "source": [
    "import numpy as np\n",
    "import matplotlib.pyplot as plt\n",
    "import math\n",
    "from pandas import read_csv\n",
    "from sklearn.preprocessing import MinMaxScaler\n",
    "from keras.models import Sequential\n",
    "from keras.layers import LSTM, Dense\n"
   ]
  },
  {
   "cell_type": "code",
   "execution_count": 3,
   "metadata": {},
   "outputs": [
    {
     "name": "stderr",
     "output_type": "stream",
     "text": [
      "/Users/asingla/anaconda2/envs/py3k/lib/python3.6/site-packages/ipykernel/__main__.py:2: ParserWarning: Falling back to the 'python' engine because the 'c' engine does not support skipfooter; you can avoid this warning by specifying engine='python'.\n",
      "  from ipykernel import kernelapp as app\n"
     ]
    }
   ],
   "source": [
    "df = read_csv('international-airline-passengers.csv',\n",
    "             usecols = [1], skipfooter=3)"
   ]
  },
  {
   "cell_type": "code",
   "execution_count": 16,
   "metadata": {},
   "outputs": [],
   "source": [
    "df.describe()\n",
    "values = df.values.astype('float32')"
   ]
  },
  {
   "cell_type": "code",
   "execution_count": 17,
   "metadata": {},
   "outputs": [],
   "source": [
    "train_size = int(len(values) * 0.67)\n",
    "test_size = len(values) - train_size\n",
    "train = values[0: train_size]\n",
    "test = values[train_size:]"
   ]
  },
  {
   "cell_type": "code",
   "execution_count": 24,
   "metadata": {},
   "outputs": [
    {
     "data": {
      "text/plain": [
       "(96, 1)"
      ]
     },
     "execution_count": 24,
     "metadata": {},
     "output_type": "execute_result"
    }
   ],
   "source": [
    "scaler = MinMaxScaler(feature_range=(0,1))\n",
    "train = scaler.fit_transform(train)\n",
    "test = scaler.transform(test)\n",
    "train.shape"
   ]
  },
  {
   "cell_type": "code",
   "execution_count": 45,
   "metadata": {
    "collapsed": true
   },
   "outputs": [],
   "source": [
    "def create_dataset(data, look_back):\n",
    "    dataX, dataY = [],[]\n",
    "    for i in range(len(data) - look_back):\n",
    "        x = data[i:i + look_back, 0]\n",
    "        y = data[i + look_back, 0]\n",
    "        dataX.append(x)\n",
    "        dataY.append(y)\n",
    "    return np.array(dataX), np.array(dataY)"
   ]
  },
  {
   "cell_type": "code",
   "execution_count": 74,
   "metadata": {},
   "outputs": [
    {
     "data": {
      "text/plain": [
       "(84, 1, 12)"
      ]
     },
     "execution_count": 74,
     "metadata": {},
     "output_type": "execute_result"
    }
   ],
   "source": [
    "look_back = 12\n",
    "trainX, trainY = create_dataset(train, look_back)\n",
    "testX, testY = create_dataset(test, look_back)\n",
    "\n",
    "trainX = np.reshape(trainX, (trainX.shape[0], 1, trainX.shape[1]))\n",
    "testX = np.reshape(testX, (testX.shape[0], 1, testX.shape[1]))\n",
    "trainX.shape"
   ]
  },
  {
   "cell_type": "code",
   "execution_count": 75,
   "metadata": {},
   "outputs": [
    {
     "name": "stdout",
     "output_type": "stream",
     "text": [
      "Epoch 1/100\n",
      "0s - loss: 0.0297\n",
      "Epoch 2/100\n",
      "0s - loss: 0.0165\n",
      "Epoch 3/100\n",
      "0s - loss: 0.0143\n",
      "Epoch 4/100\n",
      "0s - loss: 0.0127\n",
      "Epoch 5/100\n",
      "0s - loss: 0.0117\n",
      "Epoch 6/100\n",
      "0s - loss: 0.0107\n",
      "Epoch 7/100\n",
      "0s - loss: 0.0099\n",
      "Epoch 8/100\n",
      "0s - loss: 0.0095\n",
      "Epoch 9/100\n",
      "0s - loss: 0.0087\n",
      "Epoch 10/100\n",
      "0s - loss: 0.0082\n",
      "Epoch 11/100\n",
      "0s - loss: 0.0076\n",
      "Epoch 12/100\n",
      "0s - loss: 0.0070\n",
      "Epoch 13/100\n",
      "0s - loss: 0.0061\n",
      "Epoch 14/100\n",
      "0s - loss: 0.0060\n",
      "Epoch 15/100\n",
      "0s - loss: 0.0060\n",
      "Epoch 16/100\n",
      "0s - loss: 0.0052\n",
      "Epoch 17/100\n",
      "0s - loss: 0.0047\n",
      "Epoch 18/100\n",
      "0s - loss: 0.0043\n",
      "Epoch 19/100\n",
      "0s - loss: 0.0039\n",
      "Epoch 20/100\n",
      "0s - loss: 0.0038\n",
      "Epoch 21/100\n",
      "0s - loss: 0.0033\n",
      "Epoch 22/100\n",
      "0s - loss: 0.0034\n",
      "Epoch 23/100\n",
      "0s - loss: 0.0031\n",
      "Epoch 24/100\n",
      "0s - loss: 0.0030\n",
      "Epoch 25/100\n",
      "0s - loss: 0.0026\n",
      "Epoch 26/100\n",
      "0s - loss: 0.0027\n",
      "Epoch 27/100\n",
      "0s - loss: 0.0025\n",
      "Epoch 28/100\n",
      "0s - loss: 0.0025\n",
      "Epoch 29/100\n",
      "0s - loss: 0.0025\n",
      "Epoch 30/100\n",
      "0s - loss: 0.0024\n",
      "Epoch 31/100\n",
      "0s - loss: 0.0023\n",
      "Epoch 32/100\n",
      "0s - loss: 0.0025\n",
      "Epoch 33/100\n",
      "0s - loss: 0.0024\n",
      "Epoch 34/100\n",
      "0s - loss: 0.0022\n",
      "Epoch 35/100\n",
      "0s - loss: 0.0023\n",
      "Epoch 36/100\n",
      "0s - loss: 0.0023\n",
      "Epoch 37/100\n",
      "0s - loss: 0.0022\n",
      "Epoch 38/100\n",
      "0s - loss: 0.0022\n",
      "Epoch 39/100\n",
      "0s - loss: 0.0021\n",
      "Epoch 40/100\n",
      "0s - loss: 0.0022\n",
      "Epoch 41/100\n",
      "0s - loss: 0.0021\n",
      "Epoch 42/100\n",
      "0s - loss: 0.0022\n",
      "Epoch 43/100\n",
      "0s - loss: 0.0021\n",
      "Epoch 44/100\n",
      "0s - loss: 0.0020\n",
      "Epoch 45/100\n",
      "0s - loss: 0.0021\n",
      "Epoch 46/100\n",
      "0s - loss: 0.0020\n",
      "Epoch 47/100\n",
      "0s - loss: 0.0020\n",
      "Epoch 48/100\n",
      "0s - loss: 0.0021\n",
      "Epoch 49/100\n",
      "0s - loss: 0.0019\n",
      "Epoch 50/100\n",
      "0s - loss: 0.0019\n",
      "Epoch 51/100\n",
      "0s - loss: 0.0019\n",
      "Epoch 52/100\n",
      "0s - loss: 0.0018\n",
      "Epoch 53/100\n",
      "0s - loss: 0.0019\n",
      "Epoch 54/100\n",
      "0s - loss: 0.0019\n",
      "Epoch 55/100\n",
      "0s - loss: 0.0019\n",
      "Epoch 56/100\n",
      "0s - loss: 0.0018\n",
      "Epoch 57/100\n",
      "0s - loss: 0.0018\n",
      "Epoch 58/100\n",
      "0s - loss: 0.0019\n",
      "Epoch 59/100\n",
      "0s - loss: 0.0018\n",
      "Epoch 60/100\n",
      "0s - loss: 0.0019\n",
      "Epoch 61/100\n",
      "0s - loss: 0.0017\n",
      "Epoch 62/100\n",
      "0s - loss: 0.0018\n",
      "Epoch 63/100\n",
      "0s - loss: 0.0019\n",
      "Epoch 64/100\n",
      "0s - loss: 0.0017\n",
      "Epoch 65/100\n",
      "0s - loss: 0.0019\n",
      "Epoch 66/100\n",
      "0s - loss: 0.0018\n",
      "Epoch 67/100\n",
      "0s - loss: 0.0017\n",
      "Epoch 68/100\n",
      "0s - loss: 0.0018\n",
      "Epoch 69/100\n",
      "0s - loss: 0.0017\n",
      "Epoch 70/100\n",
      "0s - loss: 0.0017\n",
      "Epoch 71/100\n",
      "0s - loss: 0.0017\n",
      "Epoch 72/100\n",
      "0s - loss: 0.0018\n",
      "Epoch 73/100\n",
      "0s - loss: 0.0019\n",
      "Epoch 74/100\n",
      "0s - loss: 0.0017\n",
      "Epoch 75/100\n",
      "0s - loss: 0.0019\n",
      "Epoch 76/100\n",
      "0s - loss: 0.0017\n",
      "Epoch 77/100\n",
      "0s - loss: 0.0016\n",
      "Epoch 78/100\n",
      "0s - loss: 0.0017\n",
      "Epoch 79/100\n",
      "0s - loss: 0.0018\n",
      "Epoch 80/100\n",
      "0s - loss: 0.0017\n",
      "Epoch 81/100\n",
      "0s - loss: 0.0017\n",
      "Epoch 82/100\n",
      "0s - loss: 0.0017\n",
      "Epoch 83/100\n",
      "0s - loss: 0.0016\n",
      "Epoch 84/100\n",
      "0s - loss: 0.0018\n",
      "Epoch 85/100\n",
      "0s - loss: 0.0016\n",
      "Epoch 86/100\n",
      "0s - loss: 0.0015\n",
      "Epoch 87/100\n",
      "0s - loss: 0.0017\n",
      "Epoch 88/100\n",
      "0s - loss: 0.0016\n",
      "Epoch 89/100\n",
      "0s - loss: 0.0016\n",
      "Epoch 90/100\n",
      "0s - loss: 0.0016\n",
      "Epoch 91/100\n",
      "0s - loss: 0.0016\n",
      "Epoch 92/100\n",
      "0s - loss: 0.0016\n",
      "Epoch 93/100\n",
      "0s - loss: 0.0016\n",
      "Epoch 94/100\n",
      "0s - loss: 0.0015\n",
      "Epoch 95/100\n",
      "0s - loss: 0.0017\n",
      "Epoch 96/100\n",
      "0s - loss: 0.0019\n",
      "Epoch 97/100\n",
      "0s - loss: 0.0016\n",
      "Epoch 98/100\n",
      "0s - loss: 0.0016\n",
      "Epoch 99/100\n",
      "0s - loss: 0.0016\n",
      "Epoch 100/100\n",
      "0s - loss: 0.0017\n"
     ]
    },
    {
     "data": {
      "text/plain": [
       "<keras.callbacks.History at 0x12cb79278>"
      ]
     },
     "execution_count": 75,
     "metadata": {},
     "output_type": "execute_result"
    }
   ],
   "source": [
    "model = Sequential()\n",
    "model.add(LSTM(4, input_shape=(1, look_back)))\n",
    "model.add(Dense(1))\n",
    "model.compile(loss='mean_squared_error', optimizer='adam')\n",
    "model.fit(trainX, trainY, epochs = 100, batch_size = 1, verbose = 2)"
   ]
  },
  {
   "cell_type": "code",
   "execution_count": 76,
   "metadata": {},
   "outputs": [],
   "source": [
    "testPredict = model.predict(testX)\n",
    "trainPredict = model.predict(trainX)\n",
    "testPredict = scaler.inverse_transform(testPredict)\n",
    "trainPredict = scaler.inverse_transform(trainPredict)\n",
    "testTrue = scaler.inverse_transform([testY])\n",
    "trainTrue = scaler.inverse_transform([trainY])"
   ]
  },
  {
   "cell_type": "code",
   "execution_count": 77,
   "metadata": {},
   "outputs": [
    {
     "data": {
      "text/plain": [
       "((1, 36), (36, 1))"
      ]
     },
     "execution_count": 77,
     "metadata": {},
     "output_type": "execute_result"
    }
   ],
   "source": [
    "testTrue.shape, testPredict.shape"
   ]
  },
  {
   "cell_type": "code",
   "execution_count": 78,
   "metadata": {},
   "outputs": [
    {
     "data": {
      "image/png": "[encoded data removed]",
      "text/plain": [
       "<Figure size 432x288 with 1 Axes>"
      ]
     },
     "metadata": {},
     "output_type": "display_data"
    }
   ],
   "source": [
    "predicted = np.concatenate((trainPredict.ravel(),testPredict.ravel()))\n",
    "trueValues = np.concatenate((trainTrue.ravel(),testTrue.ravel()))\n",
    "plt.plot(predicted, c = 'g')\n",
    "plt.plot(trueValues)\n",
    "plt.show()"
   ]
  }
 ],
 "metadata": {
  "anaconda-cloud": {},
  "kernelspec": {
   "display_name": "Python 3",
   "language": "python",
   "name": "python3"
  },
  "language_info": {
   "codemirror_mode": {
    "name": "ipython",
    "version": 3
   },
   "file_extension": ".py",
   "mimetype": "text/x-python",
   "name": "python",
   "nbconvert_exporter": "python",
   "pygments_lexer": "ipython3",
   "version": "3.6.3"
  }
 },
 "nbformat": 4,
 "nbformat_minor": 1
}
