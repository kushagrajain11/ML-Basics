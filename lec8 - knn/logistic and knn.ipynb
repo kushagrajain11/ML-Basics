{
 "cells": [
  {
   "cell_type": "code",
   "execution_count": 5,
   "metadata": {},
   "outputs": [
    {
     "name": "stderr",
     "output_type": "stream",
     "text": [
      "/home/venom/anaconda3/lib/python3.6/site-packages/sklearn/cross_validation.py:41: DeprecationWarning: This module was deprecated in version 0.18 in favor of the model_selection module into which all the refactored classes and functions are moved. Also note that the interface of the new CV iterators are different from that of this module. This module will be removed in 0.20.\n",
      "  \"This module will be removed in 0.20.\", DeprecationWarning)\n"
     ]
    }
   ],
   "source": [
    "from sklearn.linear_model import LogisticRegression\n",
    "from sklearn import datasets\n",
    "import pandas as pd\n",
    "import numpy as np\n",
    "from sklearn import cross_validation as cv\n",
    "from sklearn.model_selection import train_test_split\n",
    "from sklearn.metrics import confusion_matrix"
   ]
  },
  {
   "cell_type": "code",
   "execution_count": 8,
   "metadata": {},
   "outputs": [
    {
     "name": "stdout",
     "output_type": "stream",
     "text": [
      "[0 1 1 1 1 0 1 0 0 1 1 0 0 1 1 0 1 1 1 1 1 1 1 0 1 0 1 1 0 1 1 1 1 0 1 1 0\n",
      " 1 1 0 1 1 0 1 1 1 0 0 0 1 1 1 0 1 1 0 1 0 0 1 0 1 0 1 1 0 1 1 1 1 0 1 1 1\n",
      " 0 1 1 1 0 1 1 1 0 1 0 1 0 1 0 0 0 1 1 0 1 1 0 1 1 1 1 0 1 1 1 0 1 1 0 1 0\n",
      " 1 1 1]\n",
      "[0 1 1 1 1 0 1 0 0 1 0 0 0 1 1 0 1 1 1 1 1 1 1 0 1 0 1 1 0 1 1 1 1 0 1 1 0\n",
      " 1 1 0 1 1 0 1 1 1 0 0 0 1 1 1 0 1 1 0 1 0 0 1 0 1 0 0 1 0 1 1 1 1 0 1 1 1\n",
      " 0 1 1 1 0 1 1 1 0 1 0 1 0 1 0 0 0 1 1 0 1 1 0 1 1 1 1 0 1 1 1 0 1 1 0 1 0\n",
      " 1 1 1]\n"
     ]
    }
   ],
   "source": [
    "cancer = datasets.load_breast_cancer()\n",
    "df = pd.DataFrame(cancer.data)\n",
    "df.columns = cancer.feature_names\n",
    "x_train, x_test, y_train, y_test= train_test_split(cancer.data, cancer.target, test_size=0.2)\n",
    "\n",
    "clf = LogisticRegression()\n",
    "clf.fit(x_train, y_train)\n",
    "y_pred = clf.predict(x_test)\n",
    "print(y_pred)\n",
    "print(y_test)"
   ]
  },
  {
   "cell_type": "code",
   "execution_count": 9,
   "metadata": {},
   "outputs": [
    {
     "data": {
      "text/plain": [
       "0.98245614035087714"
      ]
     },
     "execution_count": 9,
     "metadata": {},
     "output_type": "execute_result"
    }
   ],
   "source": [
    "clf.score(x_test, y_test)"
   ]
  },
  {
   "cell_type": "code",
   "execution_count": 10,
   "metadata": {},
   "outputs": [
    {
     "data": {
      "text/plain": [
       "array([[  9.99962906e-01,   3.70944936e-05],\n",
       "       [  7.19025499e-04,   9.99280975e-01],\n",
       "       [  2.61347515e-03,   9.97386525e-01],\n",
       "       [  1.22944250e-03,   9.98770558e-01],\n",
       "       [  2.63432026e-03,   9.97365680e-01],\n",
       "       [  9.99999656e-01,   3.44131333e-07],\n",
       "       [  1.02537585e-03,   9.98974624e-01],\n",
       "       [  9.99985342e-01,   1.46579025e-05],\n",
       "       [  9.99312195e-01,   6.87805487e-04],\n",
       "       [  3.76038476e-03,   9.96239615e-01],\n",
       "       [  1.68194296e-01,   8.31805704e-01],\n",
       "       [  9.87718109e-01,   1.22818915e-02],\n",
       "       [  1.00000000e+00,   2.70850967e-18],\n",
       "       [  4.61208758e-02,   9.53879124e-01],\n",
       "       [  1.07161076e-02,   9.89283892e-01],\n",
       "       [  9.99998990e-01,   1.01026974e-06],\n",
       "       [  3.15819807e-03,   9.96841802e-01],\n",
       "       [  1.25168471e-02,   9.87483153e-01],\n",
       "       [  7.12395770e-03,   9.92876042e-01],\n",
       "       [  1.06146661e-02,   9.89385334e-01],\n",
       "       [  1.78192364e-03,   9.98218076e-01],\n",
       "       [  2.12216628e-03,   9.97877834e-01],\n",
       "       [  6.18941377e-03,   9.93810586e-01],\n",
       "       [  9.95281055e-01,   4.71894524e-03],\n",
       "       [  7.52173406e-03,   9.92478266e-01],\n",
       "       [  9.99999992e-01,   7.81250589e-09],\n",
       "       [  2.36329575e-02,   9.76367043e-01],\n",
       "       [  1.02906668e-01,   8.97093332e-01],\n",
       "       [  9.61256906e-01,   3.87430939e-02],\n",
       "       [  7.66980485e-03,   9.92330195e-01],\n",
       "       [  3.20992451e-02,   9.67900755e-01],\n",
       "       [  1.47260470e-02,   9.85273953e-01],\n",
       "       [  1.78136767e-02,   9.82186323e-01],\n",
       "       [  1.00000000e+00,   2.54090970e-14],\n",
       "       [  2.65164099e-03,   9.97348359e-01],\n",
       "       [  2.13617248e-03,   9.97863828e-01],\n",
       "       [  9.59441620e-01,   4.05583801e-02],\n",
       "       [  4.85811253e-02,   9.51418875e-01],\n",
       "       [  1.61442546e-01,   8.38557454e-01],\n",
       "       [  9.99982087e-01,   1.79134865e-05],\n",
       "       [  4.29191370e-03,   9.95708086e-01],\n",
       "       [  1.38378740e-01,   8.61621260e-01],\n",
       "       [  9.79990608e-01,   2.00093920e-02],\n",
       "       [  7.03196100e-02,   9.29680390e-01],\n",
       "       [  5.71267260e-03,   9.94287327e-01],\n",
       "       [  1.99109930e-03,   9.98008901e-01],\n",
       "       [  9.92892717e-01,   7.10728276e-03],\n",
       "       [  9.99995601e-01,   4.39864681e-06],\n",
       "       [  7.17414222e-01,   2.82585778e-01],\n",
       "       [  7.07608791e-03,   9.92923912e-01],\n",
       "       [  1.32108476e-01,   8.67891524e-01],\n",
       "       [  1.58679847e-02,   9.84132015e-01],\n",
       "       [  9.94907600e-01,   5.09240029e-03],\n",
       "       [  9.27454991e-05,   9.99907255e-01],\n",
       "       [  3.62007613e-02,   9.63799239e-01],\n",
       "       [  9.99991902e-01,   8.09788984e-06],\n",
       "       [  1.44347290e-03,   9.98556527e-01],\n",
       "       [  9.45219434e-01,   5.47805660e-02],\n",
       "       [  9.72087062e-01,   2.79129381e-02],\n",
       "       [  1.50147471e-03,   9.98498525e-01],\n",
       "       [  9.99976236e-01,   2.37644154e-05],\n",
       "       [  3.16791021e-03,   9.96832090e-01],\n",
       "       [  9.26954046e-01,   7.30459539e-02],\n",
       "       [  4.41488527e-01,   5.58511473e-01],\n",
       "       [  4.59546178e-02,   9.54045382e-01],\n",
       "       [  9.84114377e-01,   1.58856225e-02],\n",
       "       [  5.94632129e-03,   9.94053679e-01],\n",
       "       [  1.20672530e-03,   9.98793275e-01],\n",
       "       [  4.52041950e-03,   9.95479580e-01],\n",
       "       [  3.27771243e-02,   9.67222876e-01],\n",
       "       [  9.99362548e-01,   6.37452397e-04],\n",
       "       [  4.20856779e-03,   9.95791432e-01],\n",
       "       [  8.45055393e-04,   9.99154945e-01],\n",
       "       [  7.50701795e-03,   9.92492982e-01],\n",
       "       [  9.89095773e-01,   1.09042270e-02],\n",
       "       [  5.36946920e-03,   9.94630531e-01],\n",
       "       [  6.13881581e-02,   9.38611842e-01],\n",
       "       [  3.50751133e-03,   9.96492489e-01],\n",
       "       [  9.99999999e-01,   6.36350124e-10],\n",
       "       [  1.74239142e-03,   9.98257609e-01],\n",
       "       [  1.61814305e-02,   9.83818569e-01],\n",
       "       [  3.26622384e-02,   9.67337762e-01],\n",
       "       [  1.00000000e+00,   4.67279380e-27],\n",
       "       [  8.89783514e-02,   9.11021649e-01],\n",
       "       [  1.00000000e+00,   2.18438181e-16],\n",
       "       [  3.45766522e-03,   9.96542335e-01],\n",
       "       [  6.22230676e-01,   3.77769324e-01],\n",
       "       [  5.27704380e-03,   9.94722956e-01],\n",
       "       [  9.99999999e-01,   1.17871537e-09],\n",
       "       [  1.00000000e+00,   1.89574853e-15],\n",
       "       [  1.00000000e+00,   9.66676324e-20],\n",
       "       [  1.06285091e-01,   8.93714909e-01],\n",
       "       [  4.42069126e-04,   9.99557931e-01],\n",
       "       [  9.99999931e-01,   6.87228204e-08],\n",
       "       [  4.44726313e-03,   9.95552737e-01],\n",
       "       [  3.69771141e-03,   9.96302289e-01],\n",
       "       [  9.73650069e-01,   2.63499311e-02],\n",
       "       [  9.13768272e-03,   9.90862317e-01],\n",
       "       [  3.61111084e-02,   9.63888892e-01],\n",
       "       [  1.05879748e-01,   8.94120252e-01],\n",
       "       [  1.78020304e-02,   9.82197970e-01],\n",
       "       [  1.00000000e+00,   3.64261471e-11],\n",
       "       [  6.16579423e-03,   9.93834206e-01],\n",
       "       [  8.32078228e-02,   9.16792177e-01],\n",
       "       [  5.90885996e-02,   9.40911400e-01],\n",
       "       [  9.92423926e-01,   7.57607428e-03],\n",
       "       [  3.14609173e-03,   9.96853908e-01],\n",
       "       [  5.30767098e-03,   9.94692329e-01],\n",
       "       [  9.83002648e-01,   1.69973523e-02],\n",
       "       [  2.11306115e-03,   9.97886939e-01],\n",
       "       [  9.99857557e-01,   1.42443477e-04],\n",
       "       [  5.20003533e-03,   9.94799965e-01],\n",
       "       [  1.13054836e-01,   8.86945164e-01],\n",
       "       [  6.78242583e-02,   9.32175742e-01]])"
      ]
     },
     "execution_count": 10,
     "metadata": {},
     "output_type": "execute_result"
    }
   ],
   "source": [
    "clf.predict_proba(x_test)"
   ]
  },
  {
   "cell_type": "code",
   "execution_count": 50,
   "metadata": {
    "collapsed": true
   },
   "outputs": [],
   "source": [
    "import matplotlib.pyplot as plt\n",
    "from sklearn.neighbors import KNeighborsClassifier\n",
    "x = np.zeros(225)\n",
    "y = np.zeros(225)"
   ]
  },
  {
   "cell_type": "code",
   "execution_count": 51,
   "metadata": {},
   "outputs": [],
   "source": [
    "for i in range(1,450,2):\n",
    "    clf = KNeighborsClassifier(n_neighbors=i)\n",
    "    clf.fit(x_train, y_train)\n",
    "    y_pred = clf.predict(x_test)\n",
    "    y_pred-y_test\n",
    "    x[int(i/2)]=clf.score(x_test,y_test)\n",
    "    y[int(i/2)]=i\n"
   ]
  },
  {
   "cell_type": "code",
   "execution_count": 52,
   "metadata": {},
   "outputs": [
    {
     "data": {
      "image/png": "[encoded data removed]",
      "text/plain": [
       "<matplotlib.figure.Figure at 0x7fd1a6c969b0>"
      ]
     },
     "metadata": {},
     "output_type": "display_data"
    }
   ],
   "source": [
    "plt.plot(y,x)\n",
    "plt.show()\n"
   ]
  },
  {
   "cell_type": "code",
   "execution_count": 56,
   "metadata": {},
   "outputs": [],
   "source": [
    "x_train, x_test, y_train, y_test= train_test_split(cancer.data, cancer.target, test_size=0.2)\n",
    "\n",
    "def dist(x1, x2):\n",
    "    return np.linalg.norm(x1-x2)\n",
    "\n",
    "\n",
    "def keep(k, dist_temp):\n",
    "    \n",
    "def knn(k):\n",
    "    for i in range(len(x_test)):\n",
    "        dist_temp=[]\n",
    "        for j in range(len(x_train)):\n",
    "            dist_temp.append(dist(x_test[i], x_train[j]))\n",
    "        keep(k, dist_temp)\n",
    "    "
   ]
  },
  {
   "cell_type": "code",
   "execution_count": null,
   "metadata": {
    "scrolled": false
   },
   "outputs": [],
   "source": []
  },
  {
   "cell_type": "code",
   "execution_count": null,
   "metadata": {
    "collapsed": true
   },
   "outputs": [],
   "source": []
  }
 ],
 "metadata": {
  "kernelspec": {
   "display_name": "Python 3",
   "language": "python",
   "name": "python3"
  },
  "language_info": {
   "codemirror_mode": {
    "name": "ipython",
    "version": 3
   },
   "file_extension": ".py",
   "mimetype": "text/x-python",
   "name": "python",
   "nbconvert_exporter": "python",
   "pygments_lexer": "ipython3",
   "version": "3.6.3"
  }
 },
 "nbformat": 4,
 "nbformat_minor": 2
}
