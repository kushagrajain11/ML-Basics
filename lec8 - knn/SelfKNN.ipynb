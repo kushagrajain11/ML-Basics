{
 "cells": [
  {
   "cell_type": "code",
   "execution_count": 57,
   "metadata": {
    "collapsed": true
   },
   "outputs": [],
   "source": [
    "from sklearn import datasets\n",
    "from sklearn.metrics import confusion_matrix\n",
    "from sklearn.model_selection import train_test_split, cross_val_score\n",
    "from sklearn.linear_model import LogisticRegression\n",
    "from sklearn.neighbors import KNeighborsClassifier\n",
    "import numpy as np\n",
    "import matplotlib.pyplot as plt"
   ]
  },
  {
   "cell_type": "code",
   "execution_count": 52,
   "metadata": {},
   "outputs": [],
   "source": [
    "def euclid_distance(x1, x2) :\n",
    "    return (((x1-x2)**2).sum())**0.5\n",
    "\n",
    "\n",
    "def take_first(elem) :\n",
    "    return elem[0]\n",
    "\n",
    "    \n",
    "def fit_for_one(X_train, Y_train, X, k) :\n",
    "    distance = [[euclid_distance(X_train[i], X), i] for i in range(len(X_train))]    \n",
    "    distance.sort(key = take_first)\n",
    "    \n",
    "    count0, count1 = 0, 0\n",
    "    \n",
    "    for i in range(k) :\n",
    "        if Y_train[distance[i][1]] == 0:\n",
    "            count0 += 1\n",
    "        else :\n",
    "            count1 += 1\n",
    "            \n",
    "    if count0 > count1 :\n",
    "        return 0\n",
    "    \n",
    "    return 1\n",
    "\n",
    "\n",
    "\n",
    "def fit(X_train, Y_train, X_test, k) :\n",
    "    Y_pred = [fit_for_one(X_train, Y_train, X_test[i], k) for i in range(len(X_test))]    \n",
    "    return Y_pred\n",
    "\n",
    "\n",
    "def score(Y_test, Y_pred) :\n",
    "    count = 0\n",
    "    \n",
    "    for i in range(len(Y_test)) :\n",
    "        if Y_test[i] == Y_pred[i] :\n",
    "            count += 1\n",
    "            \n",
    "    return count/len(Y_pred)"
   ]
  },
  {
   "cell_type": "code",
   "execution_count": 55,
   "metadata": {},
   "outputs": [
    {
     "name": "stdout",
     "output_type": "stream",
     "text": [
      "[ 0  0  0  0  0  0  0  0  0 -1  0  0  0  0  0  0  0  0  0  0  0  0  0  0  0\n",
      "  0  0  0  0  0  0  0  0  0  0  0  0  0  0  0  0  0  0  0  0  0  0  0  0  0\n",
      "  0  0  0  0  0  0  0  0  0  0  0  0  0  0  0 -1  1  0  0  0  0  0  0  0  0\n",
      "  0  0  0  0  0  0  0  0  0  0  0  1  0  0  0  0  0  0  0  0  0  0  0  0  0\n",
      "  0  0  0  0 -1  0  0  0  0  0  0 -1  0  0]\n",
      "0.9473684210526315\n"
     ]
    }
   ],
   "source": [
    "cancer = datasets.load_breast_cancer()\n",
    "X_train, X_test, Y_train, Y_test = train_test_split(cancer.data, cancer.target, test_size = 0.2)\n",
    "\n",
    "Y_pred = fit(X_train, Y_train, X_test, 10)\n",
    "print(Y_pred-Y_test)\n",
    "print(score(Y_pred, Y_test))"
   ]
  },
  {
   "cell_type": "code",
   "execution_count": 58,
   "metadata": {},
   "outputs": [
    {
     "data": {
      "image/png": "[encoded data removed]",
      "text/plain": [
       "<matplotlib.figure.Figure at 0x7f20304b5dd8>"
      ]
     },
     "metadata": {},
     "output_type": "display_data"
    }
   ],
   "source": [
    "x = []\n",
    "y = []\n",
    "\n",
    "for k in range(1, 50, 2) :\n",
    "    x = x + [k]\n",
    "    y = y + [score(Y_test, fit(X_train, Y_train, X_test, k))]\n",
    "\n",
    "plt.plot(x, y)\n",
    "plt.show()"
   ]
  }
 ],
 "metadata": {
  "kernelspec": {
   "display_name": "Python 3",
   "language": "python",
   "name": "python3"
  },
  "language_info": {
   "codemirror_mode": {
    "name": "ipython",
    "version": 3
   },
   "file_extension": ".py",
   "mimetype": "text/x-python",
   "name": "python",
   "nbconvert_exporter": "python",
   "pygments_lexer": "ipython3",
   "version": "3.6.3"
  }
 },
 "nbformat": 4,
 "nbformat_minor": 2
}
