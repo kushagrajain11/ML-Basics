{
 "cells": [
  {
   "cell_type": "code",
   "execution_count": 41,
   "metadata": {},
   "outputs": [],
   "source": [
    "from sklearn import datasets\n",
    "import pandas as pd\n",
    "import numpy as np\n",
    "from sklearn import cross_validation as cv\n",
    "from sklearn.model_selection import train_test_split"
   ]
  },
  {
   "cell_type": "code",
   "execution_count": 42,
   "metadata": {},
   "outputs": [
    {
     "data": {
      "text/plain": [
       "14"
      ]
     },
     "execution_count": 42,
     "metadata": {},
     "output_type": "execute_result"
    }
   ],
   "source": [
    "diabetes=datasets.load_boston()\n",
    "df=pd.DataFrame(diabetes.data)\n",
    "df.columns = diabetes.feature_names\n",
    "df.loc[:, 'NewCol'] = 1\n",
    "df.head()\n",
    "xtrain, xtest, ytrain,  = train_test_split(df, diabetes.target, test_size=0.2)\n"
   ]
  },
  {
   "cell_type": "code",
   "execution_count": 43,
   "metadata": {
    "collapsed": true
   },
   "outputs": [],
   "source": [
    "def step_gradient(m, alpha):\n",
    "    slopes=np.zeros(len(m))\n",
    "    n=len(m)\n",
    "    for i in range(len(x_train.values)):\n",
    "        for j in range(n):\n",
    "            x=x_train.values[i]\n",
    "            y=y_train[i]\n",
    "            slopes[j]+= -(2/n) * (y-x.dot(m))*x[j]\n",
    "    new_m=np.zeros(n)\n",
    "    new_m=m-alpha*slopes\n",
    "    return new_m\n",
    "\n",
    "def cost_gd(m):\n",
    "    total_cost = 0\n",
    "    for i in range(len(x_train.values)):\n",
    "        x = x_train.values[i]\n",
    "        y = y_train[i]\n",
    "        total_cost += (y - m.dot(x))**2\n",
    "    return total_cost/len(x_train.values)\n",
    "\n",
    "def gd_runner(alpha = 0.00000007, num_iterations = 100):\n",
    "    m = np.zeros(len(df.columns))\n",
    "    for i in range(num_iterations):\n",
    "            print(cost_gd(m))\n",
    "        m = step_gradient(m, alpha)\n",
    "    print (\"FINAL: \", cost_gd(m))\n",
    "    return (m)\n"
   ]
  },
  {
   "cell_type": "code",
   "execution_count": 44,
   "metadata": {},
   "outputs": [
    {
     "name": "stdout",
     "output_type": "stream",
     "text": [
      "21401.8814286\n",
      "10123.5599153\n",
      "6078.79362999\n",
      "4544.42014253\n",
      "3900.35955945\n",
      "3586.60955824\n",
      "3406.27665799\n",
      "3287.59051643\n",
      "3202.47440206\n",
      "3138.5533927\n",
      "3089.43165415\n",
      "3051.23800622\n",
      "3021.33963961\n",
      "2997.81923937\n",
      "2979.23120691\n",
      "2964.46766644\n",
      "2952.67326545\n",
      "2943.18543783\n",
      "2935.49020365\n",
      "2929.18859003\n",
      "2923.97080807\n",
      "2919.59628519\n",
      "2915.87818766\n",
      "2912.67141076\n",
      "2909.86325521\n",
      "2907.36618762\n",
      "2905.11221854\n",
      "2903.04853654\n",
      "2901.13411766\n",
      "2899.33709229\n",
      "2897.6327002\n",
      "2896.00170251\n",
      "2894.42914831\n",
      "2892.90341688\n",
      "2891.41547379\n",
      "2889.95829325\n",
      "2888.52640949\n",
      "2887.11556828\n",
      "2885.72245643\n",
      "2884.34449156\n",
      "2882.979659\n",
      "2881.62638498\n",
      "2880.28343822\n",
      "2878.94985349\n",
      "2877.62487228\n",
      "2876.30789661\n",
      "2874.99845333\n",
      "2873.69616621\n",
      "2872.40073444\n",
      "2871.11191579\n",
      "2869.82951359\n",
      "2868.55336666\n",
      "2867.28334139\n",
      "2866.0193257\n",
      "2864.76122424\n",
      "2863.50895476\n",
      "2862.26244521\n",
      "2861.02163156\n",
      "2859.78645602\n",
      "2858.55686575\n",
      "2857.33281181\n",
      "2856.11424831\n",
      "2854.90113183\n",
      "2853.69342091\n",
      "2852.49107567\n",
      "2851.29405752\n",
      "2850.10232891\n",
      "2848.91585318\n",
      "2847.73459441\n",
      "2846.5585173\n",
      "2845.38758709\n",
      "2844.2217695\n",
      "2843.06103068\n",
      "2841.90533716\n",
      "2840.75465582\n",
      "2839.60895386\n",
      "2838.4681988\n",
      "2837.33235844\n",
      "2836.20140086\n",
      "2835.0752944\n",
      "2833.95400767\n",
      "2832.83750952\n",
      "2831.72576905\n",
      "2830.6187556\n",
      "2829.51643876\n",
      "2828.41878831\n",
      "2827.32577431\n",
      "2826.23736702\n",
      "2825.15353692\n",
      "2824.07425473\n",
      "2822.99949136\n",
      "2821.92921796\n",
      "2820.8634059\n",
      "2819.80202674\n",
      "2818.74505226\n",
      "2817.69245446\n",
      "2816.64420553\n",
      "2815.60027788\n",
      "2814.56064411\n",
      "2813.52527704\n",
      "FINAL:  2812.49414967\n"
     ]
    },
    {
     "data": {
      "text/plain": [
       "array([ -5.45905687e-03,   2.98360498e-02,  -3.92684449e-03,\n",
       "         2.07140013e-04,   1.34971433e-04,   4.81827945e-03,\n",
       "         2.46364592e-03,   2.41091434e-03,  -1.46156670e-03,\n",
       "        -4.07443949e-05,   4.18648285e-03,   6.02613277e-02,\n",
       "        -1.17901809e-02,   4.46800619e-04])"
      ]
     },
     "execution_count": 44,
     "metadata": {},
     "output_type": "execute_result"
    }
   ],
   "source": [
    "gd_runner()"
   ]
  },
  {
   "cell_type": "code",
   "execution_count": null,
   "metadata": {
    "collapsed": true
   },
   "outputs": [],
   "source": []
  }
 ],
 "metadata": {
  "kernelspec": {
   "display_name": "Python 3",
   "language": "python",
   "name": "python3"
  },
  "language_info": {
   "codemirror_mode": {
    "name": "ipython",
    "version": 3
   },
   "file_extension": ".py",
   "mimetype": "text/x-python",
   "name": "python",
   "nbconvert_exporter": "python",
   "pygments_lexer": "ipython3",
   "version": "3.6.3"
  }
 },
 "nbformat": 4,
 "nbformat_minor": 2
}
