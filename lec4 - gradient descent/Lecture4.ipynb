{
 "cells": [
  {
   "cell_type": "code",
   "execution_count": 2,
   "metadata": {},
   "outputs": [
    {
     "ename": "NameError",
     "evalue": "name 'X_train' is not defined",
     "output_type": "error",
     "traceback": [
      "\u001b[0;31m---------------------------------------------------------------------------\u001b[0m",
      "\u001b[0;31mNameError\u001b[0m                                 Traceback (most recent call last)",
      "\u001b[0;32m<ipython-input-2-d266b1c18da7>\u001b[0m in \u001b[0;36m<module>\u001b[0;34m()\u001b[0m\n\u001b[1;32m     18\u001b[0m \u001b[0;34m\u001b[0m\u001b[0m\n\u001b[1;32m     19\u001b[0m \u001b[0;31m#X_train, Y_train, X_test, Y_test\u001b[0m\u001b[0;34m\u001b[0m\u001b[0;34m\u001b[0m\u001b[0m\n\u001b[0;32m---> 20\u001b[0;31m \u001b[0mm\u001b[0m\u001b[0;34m,\u001b[0m\u001b[0mb\u001b[0m \u001b[0;34m=\u001b[0m \u001b[0mfit\u001b[0m\u001b[0;34m(\u001b[0m\u001b[0mX_train\u001b[0m\u001b[0;34m,\u001b[0m \u001b[0mY_train\u001b[0m\u001b[0;34m)\u001b[0m\u001b[0;34m\u001b[0m\u001b[0m\n\u001b[0m\u001b[1;32m     21\u001b[0m \u001b[0mY_pred\u001b[0m \u001b[0;34m=\u001b[0m \u001b[0mpredict\u001b[0m\u001b[0;34m(\u001b[0m\u001b[0mX_test\u001b[0m\u001b[0;34m,\u001b[0m \u001b[0mm\u001b[0m \u001b[0;34m,\u001b[0m \u001b[0mb\u001b[0m\u001b[0;34m)\u001b[0m\u001b[0;34m\u001b[0m\u001b[0m\n",
      "\u001b[0;31mNameError\u001b[0m: name 'X_train' is not defined"
     ]
    }
   ],
   "source": [
    "def fit (X_train, Y_train):\n",
    "    num = (X_train.mean() * Y_train.mean() - (X_train*Y_train).mean())\n",
    "    den = X_train.mean()**2 - (X_train**2).mean()\n",
    "    m = num/den\n",
    "    b = Y_train.mean() - m *X_train.mean()\n",
    "    return m,b\n",
    "\n",
    "def predict(X_test, m , b):\n",
    "    return X_test*m + b\n",
    "\n",
    "def cost(Y_true, Y_pred):\n",
    "    return ((Y_true - Y_pred)**2).sum()\n",
    "\n",
    "def score(Y_true, Y_pred):\n",
    "    num = ((Y_true-Y_pred)**2).sum()\n",
    "    den = ((Y_true - Y_true.mean()) ** 2).sum()\n",
    "    return 1 - num/den\n",
    "\n",
    "#X_train, Y_train, X_test, Y_test\n",
    "m,b = fit(X_train, Y_train)\n",
    "Y_pred = predict(X_test, m , b)\n"
   ]
  },
  {
   "cell_type": "code",
   "execution_count": 38,
   "metadata": {},
   "outputs": [],
   "source": [
    "import numpy as np\n",
    "def step_gradient(points, learning_rate, b_current, m_current):\n",
    "    m_slope = 0\n",
    "    b_slope = 0\n",
    "    N = len(points)\n",
    "    for i in range(N):\n",
    "        x = points[i, 0]\n",
    "        y = points[i, 1]\n",
    "        b_slope += -(2/N) * (y - m_current* x - b_current)\n",
    "        m_slope += -(2/N) * (y - m_current* x - b_current)*x\n",
    "    new_m = m_current - learning_rate * m_slope\n",
    "    new_b = b_current - learning_rate* b_slope\n",
    "    return (new_b, new_m)\n",
    "\n",
    "def cost_gd(b, m , points):\n",
    "    total_cost = 0\n",
    "    for i in range(len(points)):\n",
    "        x = points[i,0]\n",
    "        y = points[i, 1]\n",
    "        total_cost += (y - (m*x + b))**2\n",
    "    return total_cost/len(points)\n",
    "\n",
    "def gd_runner(points, learning_rate = 0.001, num_iterations = 1000):\n",
    "    b = 0\n",
    "    m = 0\n",
    "    print (\"Start: \", cost_gd(b, m , points))\n",
    "    for i in range(num_iterations):\n",
    "        print(cost_gd(b,m,points),\" \")\n",
    "        b, m = step_gradient(points, learning_rate, b, m)\n",
    "    print (\"FINAL: \", cost_gd(b, m , points))\n",
    "    return (b, m)\n",
    "\n",
    "def run():\n",
    "    points = np.loadtxt(open(\"data.csv\", \"rb\"), delimiter=\",\")\n",
    "    learning_rate = 0.0003\n",
    "    num_iterations = 15\n",
    "    final_b, final_m = gd_runner(points, learning_rate, num_iterations)\n",
    "    print(final_b, final_m)"
   ]
  },
  {
   "cell_type": "code",
   "execution_count": 39,
   "metadata": {},
   "outputs": [
    {
     "name": "stdout",
     "output_type": "stream",
     "text": [
      "Start:  5565.10783448\n",
      "5565.10783448  \n",
      "1449.47066594  \n",
      "440.408733076  \n",
      "193.009315493  \n",
      "132.352449816  \n",
      "117.480666108  \n",
      "113.834356777  \n",
      "112.940281791  \n",
      "112.720992891  \n",
      "112.667146397  \n",
      "112.65386267  \n",
      "112.650524028  \n",
      "112.6496237  \n",
      "112.649321197  \n",
      "112.64916527  \n",
      "FINAL:  112.649045284\n",
      "0.0317723403951 1.47890664349\n"
     ]
    }
   ],
   "source": [
    "run()"
   ]
  },
  {
   "cell_type": "code",
   "execution_count": null,
   "metadata": {
    "collapsed": true
   },
   "outputs": [],
   "source": []
  }
 ],
 "metadata": {
  "anaconda-cloud": {},
  "kernelspec": {
   "display_name": "Python 3",
   "language": "python",
   "name": "python3"
  },
  "language_info": {
   "codemirror_mode": {
    "name": "ipython",
    "version": 3
   },
   "file_extension": ".py",
   "mimetype": "text/x-python",
   "name": "python",
   "nbconvert_exporter": "python",
   "pygments_lexer": "ipython3",
   "version": "3.6.3"
  }
 },
 "nbformat": 4,
 "nbformat_minor": 1
}
