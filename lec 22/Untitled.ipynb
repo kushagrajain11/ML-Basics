{
 "cells": [
  {
   "cell_type": "code",
   "execution_count": 104,
   "metadata": {
    "collapsed": true
   },
   "outputs": [],
   "source": [
    "p = 0.9\n",
    "target = 100"
   ]
  },
  {
   "cell_type": "code",
   "execution_count": 105,
   "metadata": {},
   "outputs": [],
   "source": [
    "import numpy as np\n",
    "board = np.zeros(target+1)\n",
    "board[0]= -1\n",
    "board[target] = 1"
   ]
  },
  {
   "cell_type": "code",
   "execution_count": 106,
   "metadata": {},
   "outputs": [],
   "source": [
    "for k in range(100):\n",
    "    for i in range(1,target):\n",
    "        possible_bets = min(i, target-i)\n",
    "        expected_total = 0\n",
    "        for j in range(1, possible_bets+1):\n",
    "            expected_total += 1/possible_bets * (p*board[i+j] + (1-p)*board[i-j])\n",
    "            #print(j,\" \", expected_total)\n",
    "            board[i] = expected_total"
   ]
  },
  {
   "cell_type": "code",
   "execution_count": 107,
   "metadata": {},
   "outputs": [
    {
     "data": {
      "text/plain": [
       "array([-1.        ,  0.49478156,  0.6608684 ,  0.73883043,  0.7859014 ,\n",
       "        0.81800866,  0.8415636 ,  0.85971169,  0.87422445,  0.88614646,\n",
       "        0.89613724,  0.90463973,  0.91196551,  0.91836353,  0.92406351,\n",
       "        0.92917146,  0.93376707,  0.93791626,  0.94167469,  0.94508998,\n",
       "        0.9482024 ,  0.951046  ,  0.95365035,  0.9560412 ,  0.95824109,\n",
       "        0.96026977,  0.96247512,  0.96456927,  0.96652409,  0.96834067,\n",
       "        0.97002676,  0.97159201,  0.97304633,  0.97439883,  0.975658  ,\n",
       "        0.97683184,  0.97792779,  0.97895269,  0.97991241,  0.98080943,\n",
       "        0.98164785,  0.98243227,  0.98316697,  0.98385584,  0.98450241,\n",
       "        0.98510986,  0.98568122,  0.98621926,  0.98672652,  0.98720532,\n",
       "        0.98765778,  0.99262879,  0.99382626,  0.99462739,  0.99524142,\n",
       "        0.99574275,  0.99616749,  0.99653652,  0.99686249,  0.99715376,\n",
       "        0.9974167 ,  0.99765626,  0.99787636,  0.99808017,  0.99826747,\n",
       "        0.99843926,  0.9985976 ,  0.99874435,  0.99888113,  0.99900928,\n",
       "        0.99912998,  0.9992443 ,  0.99935317,  0.99945745,  0.99955788,\n",
       "        0.99965511,  0.99973152,  0.99977758,  0.99981501,  0.99984663,\n",
       "        0.9998738 ,  0.99989729,  0.99991759,  0.99993507,  0.99995003,\n",
       "        0.99996267,  0.99997308,  0.99998125,  0.99998706,  0.99999097,\n",
       "        0.99999391,  0.99999609,  0.99999766,  0.99999871,  0.99999933,\n",
       "        0.99999968,  0.99999987,  0.99999996,  0.99999999,  1.        ,  1.        ])"
      ]
     },
     "execution_count": 107,
     "metadata": {},
     "output_type": "execute_result"
    }
   ],
   "source": [
    "board"
   ]
  },
  {
   "cell_type": "code",
   "execution_count": 108,
   "metadata": {},
   "outputs": [
    {
     "name": "stdout",
     "output_type": "stream",
     "text": [
      "pos:  1   bet:  1\n",
      "pos:  2   bet:  1\n",
      "pos:  3   bet:  2\n",
      "pos:  4   bet:  2\n",
      "pos:  5   bet:  3\n",
      "pos:  6   bet:  4\n",
      "pos:  7   bet:  4\n",
      "pos:  8   bet:  5\n",
      "pos:  9   bet:  5\n",
      "pos:  10   bet:  6\n",
      "pos:  11   bet:  7\n",
      "pos:  12   bet:  7\n",
      "pos:  13   bet:  8\n",
      "pos:  14   bet:  8\n",
      "pos:  15   bet:  9\n",
      "pos:  16   bet:  10\n",
      "pos:  17   bet:  10\n",
      "pos:  18   bet:  11\n",
      "pos:  19   bet:  11\n",
      "pos:  20   bet:  12\n",
      "pos:  21   bet:  12\n",
      "pos:  22   bet:  13\n",
      "pos:  23   bet:  13\n",
      "pos:  24   bet:  14\n",
      "pos:  25   bet:  14\n",
      "pos:  26   bet:  14\n",
      "pos:  27   bet:  15\n",
      "pos:  28   bet:  15\n",
      "pos:  29   bet:  22\n",
      "pos:  30   bet:  21\n",
      "pos:  31   bet:  21\n",
      "pos:  32   bet:  20\n",
      "pos:  33   bet:  20\n",
      "pos:  34   bet:  20\n",
      "pos:  35   bet:  19\n",
      "pos:  36   bet:  19\n",
      "pos:  37   bet:  19\n",
      "pos:  38   bet:  19\n",
      "pos:  39   bet:  19\n",
      "pos:  40   bet:  19\n",
      "pos:  41   bet:  18\n",
      "pos:  42   bet:  18\n",
      "pos:  43   bet:  17\n",
      "pos:  44   bet:  17\n",
      "pos:  45   bet:  17\n",
      "pos:  46   bet:  17\n",
      "pos:  47   bet:  17\n",
      "pos:  48   bet:  17\n",
      "pos:  49   bet:  17\n",
      "pos:  50   bet:  17\n",
      "pos:  51   bet:  17\n",
      "pos:  52   bet:  17\n",
      "pos:  53   bet:  17\n",
      "pos:  54   bet:  17\n",
      "pos:  55   bet:  17\n",
      "pos:  56   bet:  18\n",
      "pos:  57   bet:  18\n",
      "pos:  58   bet:  17\n",
      "pos:  59   bet:  8\n",
      "pos:  60   bet:  8\n",
      "pos:  61   bet:  9\n",
      "pos:  62   bet:  10\n",
      "pos:  63   bet:  11\n",
      "pos:  64   bet:  11\n",
      "pos:  65   bet:  11\n",
      "pos:  66   bet:  10\n",
      "pos:  67   bet:  10\n",
      "pos:  68   bet:  10\n",
      "pos:  69   bet:  10\n",
      "pos:  70   bet:  10\n",
      "pos:  71   bet:  9\n",
      "pos:  72   bet:  9\n",
      "pos:  73   bet:  9\n",
      "pos:  74   bet:  8\n",
      "pos:  75   bet:  8\n",
      "pos:  76   bet:  8\n",
      "pos:  77   bet:  7\n",
      "pos:  78   bet:  7\n",
      "pos:  79   bet:  6\n",
      "pos:  80   bet:  5\n",
      "pos:  81   bet:  5\n",
      "pos:  82   bet:  6\n",
      "pos:  83   bet:  5\n",
      "pos:  84   bet:  5\n",
      "pos:  85   bet:  5\n",
      "pos:  86   bet:  4\n",
      "pos:  87   bet:  4\n",
      "pos:  88   bet:  4\n",
      "pos:  89   bet:  3\n",
      "pos:  90   bet:  3\n",
      "pos:  91   bet:  3\n",
      "pos:  92   bet:  3\n",
      "pos:  93   bet:  2\n",
      "pos:  94   bet:  2\n",
      "pos:  95   bet:  2\n",
      "pos:  96   bet:  1\n",
      "pos:  97   bet:  1\n",
      "pos:  98   bet:  1\n",
      "pos:  99   bet:  1\n"
     ]
    }
   ],
   "source": [
    "for pos in range(1,target):\n",
    "    curr = -1\n",
    "    bet_amt = -1\n",
    "    possible_bets = min(pos, target-pos)\n",
    "    for j in range(1, possible_bets+1):\n",
    "        expected = 1/possible_bets * (p*board[pos+j] + (1-p)*board[pos-j])\n",
    "        if(expected>curr):\n",
    "            curr = expected\n",
    "            bet_amt = j\n",
    "    print(\"pos: \",pos, \"  bet: \", bet_amt)"
   ]
  },
  {
   "cell_type": "code",
   "execution_count": null,
   "metadata": {},
   "outputs": [],
   "source": []
  },
  {
   "cell_type": "code",
   "execution_count": null,
   "metadata": {
    "collapsed": true
   },
   "outputs": [],
   "source": []
  }
 ],
 "metadata": {
  "kernelspec": {
   "display_name": "Python 3",
   "language": "python",
   "name": "python3"
  },
  "language_info": {
   "codemirror_mode": {
    "name": "ipython",
    "version": 3
   },
   "file_extension": ".py",
   "mimetype": "text/x-python",
   "name": "python",
   "nbconvert_exporter": "python",
   "pygments_lexer": "ipython3",
   "version": "3.6.3"
  }
 },
 "nbformat": 4,
 "nbformat_minor": 2
}
